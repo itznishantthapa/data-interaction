{
 "cells": [
  {
   "cell_type": "code",
   "execution_count": 221,
   "metadata": {},
   "outputs": [],
   "source": [
    "import pandas as pd\n",
    "import seaborn as sns\n",
    "import matplotlib.pyplot as plt\n"
   ]
  },
  {
   "cell_type": "code",
   "execution_count": 222,
   "metadata": {},
   "outputs": [
    {
     "data": {
      "text/plain": [
       "(55, 9)"
      ]
     },
     "execution_count": 222,
     "metadata": {},
     "output_type": "execute_result"
    }
   ],
   "source": [
    "dataset=pd.read_csv('../dirty_dataset.csv')\n",
    "dataset.shape"
   ]
  },
  {
   "cell_type": "code",
   "execution_count": 223,
   "metadata": {},
   "outputs": [
    {
     "name": "stdout",
     "output_type": "stream",
     "text": [
      "<class 'pandas.core.frame.DataFrame'>\n",
      "RangeIndex: 55 entries, 0 to 54\n",
      "Data columns (total 9 columns):\n",
      " #   Column            Non-Null Count  Dtype  \n",
      "---  ------            --------------  -----  \n",
      " 0   Customer_ID       55 non-null     object \n",
      " 1   Name              55 non-null     object \n",
      " 2   Email             47 non-null     object \n",
      " 3   Purchase_Amount   42 non-null     float64\n",
      " 4   Purchase_Date     48 non-null     object \n",
      " 5   Product_Category  55 non-null     object \n",
      " 6   Quantity          45 non-null     object \n",
      " 7   Discount_Applied  44 non-null     object \n",
      " 8   Store_Location    55 non-null     object \n",
      "dtypes: float64(1), object(8)\n",
      "memory usage: 4.0+ KB\n"
     ]
    }
   ],
   "source": [
    "dataset.info()"
   ]
  },
  {
   "cell_type": "code",
   "execution_count": 224,
   "metadata": {},
   "outputs": [
    {
     "data": {
      "text/plain": [
       "Customer_ID          0\n",
       "Name                 0\n",
       "Email                8\n",
       "Purchase_Amount     13\n",
       "Purchase_Date        7\n",
       "Product_Category     0\n",
       "Quantity            10\n",
       "Discount_Applied    11\n",
       "Store_Location       0\n",
       "dtype: int64"
      ]
     },
     "execution_count": 224,
     "metadata": {},
     "output_type": "execute_result"
    }
   ],
   "source": [
    "dataset.isnull().sum()"
   ]
  },
  {
   "cell_type": "code",
   "execution_count": 225,
   "metadata": {},
   "outputs": [
    {
     "data": {
      "text/html": [
       "<div>\n",
       "<style scoped>\n",
       "    .dataframe tbody tr th:only-of-type {\n",
       "        vertical-align: middle;\n",
       "    }\n",
       "\n",
       "    .dataframe tbody tr th {\n",
       "        vertical-align: top;\n",
       "    }\n",
       "\n",
       "    .dataframe thead th {\n",
       "        text-align: right;\n",
       "    }\n",
       "</style>\n",
       "<table border=\"1\" class=\"dataframe\">\n",
       "  <thead>\n",
       "    <tr style=\"text-align: right;\">\n",
       "      <th></th>\n",
       "      <th>Customer_ID</th>\n",
       "      <th>Name</th>\n",
       "      <th>Email</th>\n",
       "      <th>Purchase_Amount</th>\n",
       "      <th>Purchase_Date</th>\n",
       "      <th>Product_Category</th>\n",
       "      <th>Quantity</th>\n",
       "      <th>Discount_Applied</th>\n",
       "      <th>Store_Location</th>\n",
       "    </tr>\n",
       "  </thead>\n",
       "  <tbody>\n",
       "    <tr>\n",
       "      <th>0</th>\n",
       "      <td>c001</td>\n",
       "      <td>John Doe</td>\n",
       "      <td>john.doe@email.com</td>\n",
       "      <td>2000.0</td>\n",
       "      <td>2024-01-01</td>\n",
       "      <td>Electronics</td>\n",
       "      <td>NaN</td>\n",
       "      <td>no</td>\n",
       "      <td>New York</td>\n",
       "    </tr>\n",
       "    <tr>\n",
       "      <th>1</th>\n",
       "      <td>C001</td>\n",
       "      <td>Jane Smith</td>\n",
       "      <td>jane.smith@email.com</td>\n",
       "      <td>100.0</td>\n",
       "      <td>01/02/2024</td>\n",
       "      <td>Clothing</td>\n",
       "      <td>2</td>\n",
       "      <td>True</td>\n",
       "      <td>Los Angeles</td>\n",
       "    </tr>\n",
       "    <tr>\n",
       "      <th>2</th>\n",
       "      <td>C001</td>\n",
       "      <td>JANE SMITH</td>\n",
       "      <td>jane.smith@EMAIL.com</td>\n",
       "      <td>-10.0</td>\n",
       "      <td>2024-01-03</td>\n",
       "      <td>clothing</td>\n",
       "      <td>two</td>\n",
       "      <td>no</td>\n",
       "      <td>los angeles</td>\n",
       "    </tr>\n",
       "    <tr>\n",
       "      <th>3</th>\n",
       "      <td>c001</td>\n",
       "      <td>Mike Brown</td>\n",
       "      <td>mikebrown@email.com</td>\n",
       "      <td>NaN</td>\n",
       "      <td>2024-01-04</td>\n",
       "      <td>Furniture</td>\n",
       "      <td>two</td>\n",
       "      <td>False</td>\n",
       "      <td>Chicago</td>\n",
       "    </tr>\n",
       "    <tr>\n",
       "      <th>4</th>\n",
       "      <td>C003</td>\n",
       "      <td>mike brown</td>\n",
       "      <td>NaN</td>\n",
       "      <td>2000.0</td>\n",
       "      <td>01-05-2024</td>\n",
       "      <td>FURNITURE</td>\n",
       "      <td>two</td>\n",
       "      <td>True</td>\n",
       "      <td>CHICAGO</td>\n",
       "    </tr>\n",
       "  </tbody>\n",
       "</table>\n",
       "</div>"
      ],
      "text/plain": [
       "  Customer_ID        Name                 Email  Purchase_Amount  \\\n",
       "0        c001    John Doe    john.doe@email.com           2000.0   \n",
       "1        C001  Jane Smith  jane.smith@email.com            100.0   \n",
       "2        C001  JANE SMITH  jane.smith@EMAIL.com            -10.0   \n",
       "3        c001  Mike Brown   mikebrown@email.com              NaN   \n",
       "4        C003  mike brown                   NaN           2000.0   \n",
       "\n",
       "  Purchase_Date Product_Category Quantity Discount_Applied Store_Location  \n",
       "0    2024-01-01      Electronics      NaN               no       New York  \n",
       "1    01/02/2024         Clothing        2             True    Los Angeles  \n",
       "2    2024-01-03         clothing      two               no    los angeles  \n",
       "3    2024-01-04        Furniture      two            False        Chicago  \n",
       "4    01-05-2024        FURNITURE      two             True        CHICAGO  "
      ]
     },
     "execution_count": 225,
     "metadata": {},
     "output_type": "execute_result"
    }
   ],
   "source": [
    "dataset.head(5)"
   ]
  },
  {
   "cell_type": "code",
   "execution_count": 226,
   "metadata": {},
   "outputs": [
    {
     "data": {
      "text/html": [
       "<div>\n",
       "<style scoped>\n",
       "    .dataframe tbody tr th:only-of-type {\n",
       "        vertical-align: middle;\n",
       "    }\n",
       "\n",
       "    .dataframe tbody tr th {\n",
       "        vertical-align: top;\n",
       "    }\n",
       "\n",
       "    .dataframe thead th {\n",
       "        text-align: right;\n",
       "    }\n",
       "</style>\n",
       "<table border=\"1\" class=\"dataframe\">\n",
       "  <thead>\n",
       "    <tr style=\"text-align: right;\">\n",
       "      <th></th>\n",
       "      <th>Purchase_Amount</th>\n",
       "    </tr>\n",
       "  </thead>\n",
       "  <tbody>\n",
       "    <tr>\n",
       "      <th>count</th>\n",
       "      <td>42.000000</td>\n",
       "    </tr>\n",
       "    <tr>\n",
       "      <th>mean</th>\n",
       "      <td>525.476190</td>\n",
       "    </tr>\n",
       "    <tr>\n",
       "      <th>std</th>\n",
       "      <td>818.851672</td>\n",
       "    </tr>\n",
       "    <tr>\n",
       "      <th>min</th>\n",
       "      <td>-10.000000</td>\n",
       "    </tr>\n",
       "    <tr>\n",
       "      <th>25%</th>\n",
       "      <td>12.500000</td>\n",
       "    </tr>\n",
       "    <tr>\n",
       "      <th>50%</th>\n",
       "      <td>50.000000</td>\n",
       "    </tr>\n",
       "    <tr>\n",
       "      <th>75%</th>\n",
       "      <td>1000.000000</td>\n",
       "    </tr>\n",
       "    <tr>\n",
       "      <th>max</th>\n",
       "      <td>2000.000000</td>\n",
       "    </tr>\n",
       "  </tbody>\n",
       "</table>\n",
       "</div>"
      ],
      "text/plain": [
       "       Purchase_Amount\n",
       "count        42.000000\n",
       "mean        525.476190\n",
       "std         818.851672\n",
       "min         -10.000000\n",
       "25%          12.500000\n",
       "50%          50.000000\n",
       "75%        1000.000000\n",
       "max        2000.000000"
      ]
     },
     "execution_count": 226,
     "metadata": {},
     "output_type": "execute_result"
    }
   ],
   "source": [
    "dataset.describe()"
   ]
  },
  {
   "cell_type": "markdown",
   "metadata": {},
   "source": [
    "## Finding the outliers in the 'Quality of Sleep' Column"
   ]
  },
  {
   "cell_type": "code",
   "execution_count": 227,
   "metadata": {},
   "outputs": [
    {
     "data": {
      "image/png": "[encoded data removed]",
      "text/plain": [
       "<Figure size 640x480 with 1 Axes>"
      ]
     },
     "metadata": {},
     "output_type": "display_data"
    }
   ],
   "source": [
    "sns.boxplot(x='Purchase_Amount',data=dataset)\n",
    "plt.show()"
   ]
  },
  {
   "cell_type": "code",
   "execution_count": 228,
   "metadata": {},
   "outputs": [
    {
     "data": {
      "image/png": "[encoded data removed]",
      "text/plain": [
       "<Figure size 500x500 with 1 Axes>"
      ]
     },
     "metadata": {},
     "output_type": "display_data"
    }
   ],
   "source": [
    "sns.displot(dataset['Purchase_Amount'])\n",
    "plt.show()"
   ]
  },
  {
   "cell_type": "code",
   "execution_count": 229,
   "metadata": {},
   "outputs": [
    {
     "data": {
      "text/plain": [
       "(472560, 8)"
      ]
     },
     "execution_count": 229,
     "metadata": {},
     "output_type": "execute_result"
    }
   ],
   "source": [
    "dataset2=pd.read_csv('../covid.csv')\n",
    "dataset2.shape\n",
    "\n"
   ]
  },
  {
   "cell_type": "code",
   "execution_count": 230,
   "metadata": {},
   "outputs": [
    {
     "data": {
      "text/html": [
       "<div>\n",
       "<style scoped>\n",
       "    .dataframe tbody tr th:only-of-type {\n",
       "        vertical-align: middle;\n",
       "    }\n",
       "\n",
       "    .dataframe tbody tr th {\n",
       "        vertical-align: top;\n",
       "    }\n",
       "\n",
       "    .dataframe thead th {\n",
       "        text-align: right;\n",
       "    }\n",
       "</style>\n",
       "<table border=\"1\" class=\"dataframe\">\n",
       "  <thead>\n",
       "    <tr style=\"text-align: right;\">\n",
       "      <th></th>\n",
       "      <th>New_cases</th>\n",
       "      <th>Cumulative_cases</th>\n",
       "      <th>New_deaths</th>\n",
       "      <th>Cumulative_deaths</th>\n",
       "    </tr>\n",
       "  </thead>\n",
       "  <tbody>\n",
       "    <tr>\n",
       "      <th>count</th>\n",
       "      <td>2.092560e+05</td>\n",
       "      <td>4.725600e+05</td>\n",
       "      <td>153448.000000</td>\n",
       "      <td>4.725600e+05</td>\n",
       "    </tr>\n",
       "    <tr>\n",
       "      <th>mean</th>\n",
       "      <td>3.717696e+03</td>\n",
       "      <td>2.001990e+06</td>\n",
       "      <td>46.247915</td>\n",
       "      <td>2.139459e+04</td>\n",
       "    </tr>\n",
       "    <tr>\n",
       "      <th>std</th>\n",
       "      <td>4.868857e+04</td>\n",
       "      <td>8.405211e+06</td>\n",
       "      <td>242.756418</td>\n",
       "      <td>8.597986e+04</td>\n",
       "    </tr>\n",
       "    <tr>\n",
       "      <th>min</th>\n",
       "      <td>-6.507900e+04</td>\n",
       "      <td>0.000000e+00</td>\n",
       "      <td>-3520.000000</td>\n",
       "      <td>0.000000e+00</td>\n",
       "    </tr>\n",
       "    <tr>\n",
       "      <th>25%</th>\n",
       "      <td>3.000000e+00</td>\n",
       "      <td>6.265000e+03</td>\n",
       "      <td>0.000000</td>\n",
       "      <td>3.800000e+01</td>\n",
       "    </tr>\n",
       "    <tr>\n",
       "      <th>50%</th>\n",
       "      <td>6.100000e+01</td>\n",
       "      <td>5.714900e+04</td>\n",
       "      <td>2.000000</td>\n",
       "      <td>6.810000e+02</td>\n",
       "    </tr>\n",
       "    <tr>\n",
       "      <th>75%</th>\n",
       "      <td>6.840000e+02</td>\n",
       "      <td>6.432410e+05</td>\n",
       "      <td>15.000000</td>\n",
       "      <td>7.693000e+03</td>\n",
       "    </tr>\n",
       "    <tr>\n",
       "      <th>max</th>\n",
       "      <td>6.966046e+06</td>\n",
       "      <td>1.034368e+08</td>\n",
       "      <td>44047.000000</td>\n",
       "      <td>1.224213e+06</td>\n",
       "    </tr>\n",
       "  </tbody>\n",
       "</table>\n",
       "</div>"
      ],
      "text/plain": [
       "          New_cases  Cumulative_cases     New_deaths  Cumulative_deaths\n",
       "count  2.092560e+05      4.725600e+05  153448.000000       4.725600e+05\n",
       "mean   3.717696e+03      2.001990e+06      46.247915       2.139459e+04\n",
       "std    4.868857e+04      8.405211e+06     242.756418       8.597986e+04\n",
       "min   -6.507900e+04      0.000000e+00   -3520.000000       0.000000e+00\n",
       "25%    3.000000e+00      6.265000e+03       0.000000       3.800000e+01\n",
       "50%    6.100000e+01      5.714900e+04       2.000000       6.810000e+02\n",
       "75%    6.840000e+02      6.432410e+05      15.000000       7.693000e+03\n",
       "max    6.966046e+06      1.034368e+08   44047.000000       1.224213e+06"
      ]
     },
     "execution_count": 230,
     "metadata": {},
     "output_type": "execute_result"
    }
   ],
   "source": [
    "dataset2.describe()"
   ]
  },
  {
   "cell_type": "code",
   "execution_count": 231,
   "metadata": {},
   "outputs": [
    {
     "data": {
      "text/plain": [
       "Date_reported             0\n",
       "Country_code           1969\n",
       "Country                   0\n",
       "WHO_region                0\n",
       "New_cases            263304\n",
       "Cumulative_cases          0\n",
       "New_deaths           319112\n",
       "Cumulative_deaths         0\n",
       "dtype: int64"
      ]
     },
     "execution_count": 231,
     "metadata": {},
     "output_type": "execute_result"
    }
   ],
   "source": [
    "dataset2.isnull().sum()"
   ]
  },
  {
   "cell_type": "code",
   "execution_count": 232,
   "metadata": {},
   "outputs": [],
   "source": [
    "dataset2.drop(columns=['New_deaths','New_cases'],inplace=True)"
   ]
  },
  {
   "cell_type": "markdown",
   "metadata": {},
   "source": [
    "## Visual Method to Find the Outliers"
   ]
  },
  {
   "cell_type": "code",
   "execution_count": 233,
   "metadata": {},
   "outputs": [
    {
     "data": {
      "image/png": "[encoded data removed]",
      "text/plain": [
       "<Figure size 640x480 with 1 Axes>"
      ]
     },
     "metadata": {},
     "output_type": "display_data"
    }
   ],
   "source": [
    "sns.boxplot(x='Cumulative_cases',data=dataset2)\n",
    "plt.show()"
   ]
  },
  {
   "cell_type": "markdown",
   "metadata": {},
   "source": [
    "## IQR : Statical method to Find the Outliers"
   ]
  },
  {
   "cell_type": "code",
   "execution_count": 234,
   "metadata": {},
   "outputs": [
    {
     "data": {
      "text/plain": [
       "np.float64(636976.0)"
      ]
     },
     "execution_count": 234,
     "metadata": {},
     "output_type": "execute_result"
    }
   ],
   "source": [
    "q1=dataset2['Cumulative_cases'].quantile(0.25)\n",
    "q3=dataset2['Cumulative_cases'].quantile(0.75)\n",
    "iqr=q3-q1\n",
    "iqr"
   ]
  },
  {
   "cell_type": "code",
   "execution_count": 235,
   "metadata": {},
   "outputs": [
    {
     "data": {
      "text/plain": [
       "(np.float64(-949199.0), np.float64(1598705.0))"
      ]
     },
     "execution_count": 235,
     "metadata": {},
     "output_type": "execute_result"
    }
   ],
   "source": [
    "min_range=q1-(1.5*iqr)\n",
    "max_range=q3+(1.5*iqr)\n",
    "min_range,max_range\n"
   ]
  },
  {
   "cell_type": "markdown",
   "metadata": {},
   "source": [
    "## Removing the Outliers"
   ]
  },
  {
   "cell_type": "code",
   "execution_count": 236,
   "metadata": {},
   "outputs": [
    {
     "data": {
      "text/plain": [
       "(402919, 6)"
      ]
     },
     "execution_count": 236,
     "metadata": {},
     "output_type": "execute_result"
    }
   ],
   "source": [
    "new_dataset2=dataset2[dataset2['Cumulative_cases']<=max_range]\n",
    "new_dataset2.shape"
   ]
  },
  {
   "cell_type": "code",
   "execution_count": 237,
   "metadata": {},
   "outputs": [
    {
     "data": {
      "image/png": "[encoded data removed]",
      "text/plain": [
       "<Figure size 640x480 with 1 Axes>"
      ]
     },
     "metadata": {},
     "output_type": "display_data"
    }
   ],
   "source": [
    "sns.boxplot(x='Cumulative_cases',data=new_dataset2)\n",
    "plt.show()"
   ]
  },
  {
   "cell_type": "markdown",
   "metadata": {},
   "source": [
    "## Z - Score method to find the Outliers"
   ]
  },
  {
   "cell_type": "code",
   "execution_count": 238,
   "metadata": {},
   "outputs": [
    {
     "data": {
      "text/plain": [
       "0        -0.238184\n",
       "1        -0.238184\n",
       "2        -0.238184\n",
       "3        -0.238184\n",
       "4        -0.238184\n",
       "            ...   \n",
       "472555    0.668695\n",
       "472556   -0.230583\n",
       "472557   -0.234235\n",
       "472558   -0.208289\n",
       "472559   -0.228642\n",
       "Name: Cumulative_cases, Length: 472560, dtype: float64"
      ]
     },
     "execution_count": 238,
     "metadata": {},
     "output_type": "execute_result"
    }
   ],
   "source": [
    "z_score=(dataset2['Cumulative_cases']-dataset2['Cumulative_cases'].mean())/(dataset2['Cumulative_cases'].std())\n",
    "z_score"
   ]
  },
  {
   "cell_type": "code",
   "execution_count": 239,
   "metadata": {},
   "outputs": [
    {
     "data": {
      "text/html": [
       "<div>\n",
       "<style scoped>\n",
       "    .dataframe tbody tr th:only-of-type {\n",
       "        vertical-align: middle;\n",
       "    }\n",
       "\n",
       "    .dataframe tbody tr th {\n",
       "        vertical-align: top;\n",
       "    }\n",
       "\n",
       "    .dataframe thead th {\n",
       "        text-align: right;\n",
       "    }\n",
       "</style>\n",
       "<table border=\"1\" class=\"dataframe\">\n",
       "  <thead>\n",
       "    <tr style=\"text-align: right;\">\n",
       "      <th></th>\n",
       "      <th>Date_reported</th>\n",
       "      <th>Country_code</th>\n",
       "      <th>Country</th>\n",
       "      <th>WHO_region</th>\n",
       "      <th>Cumulative_cases</th>\n",
       "      <th>Cumulative_deaths</th>\n",
       "      <th>z_score</th>\n",
       "    </tr>\n",
       "  </thead>\n",
       "  <tbody>\n",
       "    <tr>\n",
       "      <th>0</th>\n",
       "      <td>2020-01-04</td>\n",
       "      <td>VC</td>\n",
       "      <td>Saint Vincent and the Grenadines</td>\n",
       "      <td>AMR</td>\n",
       "      <td>0</td>\n",
       "      <td>0</td>\n",
       "      <td>-0.238184</td>\n",
       "    </tr>\n",
       "    <tr>\n",
       "      <th>1</th>\n",
       "      <td>2020-01-04</td>\n",
       "      <td>SN</td>\n",
       "      <td>Senegal</td>\n",
       "      <td>AFR</td>\n",
       "      <td>0</td>\n",
       "      <td>0</td>\n",
       "      <td>-0.238184</td>\n",
       "    </tr>\n",
       "    <tr>\n",
       "      <th>2</th>\n",
       "      <td>2020-01-04</td>\n",
       "      <td>SB</td>\n",
       "      <td>Solomon Islands</td>\n",
       "      <td>WPR</td>\n",
       "      <td>0</td>\n",
       "      <td>0</td>\n",
       "      <td>-0.238184</td>\n",
       "    </tr>\n",
       "    <tr>\n",
       "      <th>3</th>\n",
       "      <td>2020-01-04</td>\n",
       "      <td>LK</td>\n",
       "      <td>Sri Lanka</td>\n",
       "      <td>SEAR</td>\n",
       "      <td>0</td>\n",
       "      <td>0</td>\n",
       "      <td>-0.238184</td>\n",
       "    </tr>\n",
       "    <tr>\n",
       "      <th>4</th>\n",
       "      <td>2020-01-04</td>\n",
       "      <td>SY</td>\n",
       "      <td>Syrian Arab Republic</td>\n",
       "      <td>EMR</td>\n",
       "      <td>0</td>\n",
       "      <td>0</td>\n",
       "      <td>-0.238184</td>\n",
       "    </tr>\n",
       "  </tbody>\n",
       "</table>\n",
       "</div>"
      ],
      "text/plain": [
       "  Date_reported Country_code                           Country WHO_region  \\\n",
       "0    2020-01-04           VC  Saint Vincent and the Grenadines        AMR   \n",
       "1    2020-01-04           SN                           Senegal        AFR   \n",
       "2    2020-01-04           SB                   Solomon Islands        WPR   \n",
       "3    2020-01-04           LK                         Sri Lanka       SEAR   \n",
       "4    2020-01-04           SY              Syrian Arab Republic        EMR   \n",
       "\n",
       "   Cumulative_cases  Cumulative_deaths   z_score  \n",
       "0                 0                  0 -0.238184  \n",
       "1                 0                  0 -0.238184  \n",
       "2                 0                  0 -0.238184  \n",
       "3                 0                  0 -0.238184  \n",
       "4                 0                  0 -0.238184  "
      ]
     },
     "execution_count": 239,
     "metadata": {},
     "output_type": "execute_result"
    }
   ],
   "source": [
    "dataset2['z_score']=z_score\n",
    "dataset2.head(5)"
   ]
  },
  {
   "cell_type": "code",
   "execution_count": 240,
   "metadata": {},
   "outputs": [
    {
     "data": {
      "text/plain": [
       "(463458, 7)"
      ]
     },
     "execution_count": 240,
     "metadata": {},
     "output_type": "execute_result"
    }
   ],
   "source": [
    "new_z_dataset=dataset2[dataset2['z_score']<3]\n",
    "new_z_dataset.shape"
   ]
  },
  {
   "cell_type": "code",
   "execution_count": 241,
   "metadata": {},
   "outputs": [
    {
     "data": {
      "text/plain": [
       "(np.float64(-23213642.388050284), np.float64(27217621.628206033))"
      ]
     },
     "execution_count": 241,
     "metadata": {},
     "output_type": "execute_result"
    }
   ],
   "source": [
    "min=dataset2['Cumulative_cases'].mean()-(3*dataset2['Cumulative_cases'].std())\n",
    "max=dataset2['Cumulative_cases'].mean()+(3*dataset2['Cumulative_cases'].std())\n",
    "min,max"
   ]
  },
  {
   "cell_type": "code",
   "execution_count": 242,
   "metadata": {},
   "outputs": [
    {
     "data": {
      "text/plain": [
       "(402919, 7)"
      ]
     },
     "execution_count": 242,
     "metadata": {},
     "output_type": "execute_result"
    }
   ],
   "source": [
    "direct_newdataset=dataset2[dataset2['Cumulative_cases']<=max_range]\n",
    "direct_newdataset.shape"
   ]
  },
  {
   "cell_type": "code",
   "execution_count": 243,
   "metadata": {},
   "outputs": [
    {
     "data": {
      "text/html": [
       "<div>\n",
       "<style scoped>\n",
       "    .dataframe tbody tr th:only-of-type {\n",
       "        vertical-align: middle;\n",
       "    }\n",
       "\n",
       "    .dataframe tbody tr th {\n",
       "        vertical-align: top;\n",
       "    }\n",
       "\n",
       "    .dataframe thead th {\n",
       "        text-align: right;\n",
       "    }\n",
       "</style>\n",
       "<table border=\"1\" class=\"dataframe\">\n",
       "  <thead>\n",
       "    <tr style=\"text-align: right;\">\n",
       "      <th></th>\n",
       "      <th>MOVIES</th>\n",
       "      <th>YEAR</th>\n",
       "      <th>GENRE</th>\n",
       "      <th>RATING</th>\n",
       "      <th>ONE-LINE</th>\n",
       "      <th>STARS</th>\n",
       "      <th>VOTES</th>\n",
       "      <th>RunTime</th>\n",
       "      <th>Gross</th>\n",
       "    </tr>\n",
       "  </thead>\n",
       "  <tbody>\n",
       "    <tr>\n",
       "      <th>0</th>\n",
       "      <td>Blood Red Sky</td>\n",
       "      <td>(2021)</td>\n",
       "      <td>\\nAction, Horror, Thriller</td>\n",
       "      <td>6.1</td>\n",
       "      <td>\\nA woman with a mysterious illness is forced ...</td>\n",
       "      <td>\\n    Director:\\nPeter Thorwarth\\n| \\n    Star...</td>\n",
       "      <td>21,062</td>\n",
       "      <td>121.0</td>\n",
       "      <td>NaN</td>\n",
       "    </tr>\n",
       "    <tr>\n",
       "      <th>1</th>\n",
       "      <td>Masters of the Universe: Revelation</td>\n",
       "      <td>(2021– )</td>\n",
       "      <td>\\nAnimation, Action, Adventure</td>\n",
       "      <td>5.0</td>\n",
       "      <td>\\nThe war for Eternia begins again in what may...</td>\n",
       "      <td>\\n            \\n    Stars:\\nChris Wood, \\nSara...</td>\n",
       "      <td>17,870</td>\n",
       "      <td>25.0</td>\n",
       "      <td>NaN</td>\n",
       "    </tr>\n",
       "    <tr>\n",
       "      <th>2</th>\n",
       "      <td>The Walking Dead</td>\n",
       "      <td>(2010–2022)</td>\n",
       "      <td>\\nDrama, Horror, Thriller</td>\n",
       "      <td>8.2</td>\n",
       "      <td>\\nSheriff Deputy Rick Grimes wakes up from a c...</td>\n",
       "      <td>\\n            \\n    Stars:\\nAndrew Lincoln, \\n...</td>\n",
       "      <td>885,805</td>\n",
       "      <td>44.0</td>\n",
       "      <td>NaN</td>\n",
       "    </tr>\n",
       "    <tr>\n",
       "      <th>3</th>\n",
       "      <td>Rick and Morty</td>\n",
       "      <td>(2013– )</td>\n",
       "      <td>\\nAnimation, Adventure, Comedy</td>\n",
       "      <td>9.2</td>\n",
       "      <td>\\nAn animated series that follows the exploits...</td>\n",
       "      <td>\\n            \\n    Stars:\\nJustin Roiland, \\n...</td>\n",
       "      <td>414,849</td>\n",
       "      <td>23.0</td>\n",
       "      <td>NaN</td>\n",
       "    </tr>\n",
       "    <tr>\n",
       "      <th>4</th>\n",
       "      <td>Army of Thieves</td>\n",
       "      <td>(2021)</td>\n",
       "      <td>\\nAction, Crime, Horror</td>\n",
       "      <td>NaN</td>\n",
       "      <td>\\nA prequel, set before the events of Army of ...</td>\n",
       "      <td>\\n    Director:\\nMatthias Schweighöfer\\n| \\n  ...</td>\n",
       "      <td>NaN</td>\n",
       "      <td>NaN</td>\n",
       "      <td>NaN</td>\n",
       "    </tr>\n",
       "    <tr>\n",
       "      <th>5</th>\n",
       "      <td>Outer Banks</td>\n",
       "      <td>(2020– )</td>\n",
       "      <td>\\nAction, Crime, Drama</td>\n",
       "      <td>7.6</td>\n",
       "      <td>\\nA group of teenagers from the wrong side of ...</td>\n",
       "      <td>\\n            \\n    Stars:\\nChase Stokes, \\nMa...</td>\n",
       "      <td>25,858</td>\n",
       "      <td>50.0</td>\n",
       "      <td>NaN</td>\n",
       "    </tr>\n",
       "    <tr>\n",
       "      <th>6</th>\n",
       "      <td>The Last Letter from Your Lover</td>\n",
       "      <td>(2021)</td>\n",
       "      <td>\\nDrama, Romance</td>\n",
       "      <td>6.8</td>\n",
       "      <td>\\nA pair of interwoven stories set in the past...</td>\n",
       "      <td>\\n    Director:\\nAugustine Frizzell\\n| \\n    S...</td>\n",
       "      <td>5,283</td>\n",
       "      <td>110.0</td>\n",
       "      <td>NaN</td>\n",
       "    </tr>\n",
       "    <tr>\n",
       "      <th>7</th>\n",
       "      <td>Dexter</td>\n",
       "      <td>(2006–2013)</td>\n",
       "      <td>\\nCrime, Drama, Mystery</td>\n",
       "      <td>8.6</td>\n",
       "      <td>\\nBy day, mild-mannered Dexter is a blood-spat...</td>\n",
       "      <td>\\n            \\n    Stars:\\nMichael C. Hall, \\...</td>\n",
       "      <td>665,387</td>\n",
       "      <td>53.0</td>\n",
       "      <td>NaN</td>\n",
       "    </tr>\n",
       "    <tr>\n",
       "      <th>8</th>\n",
       "      <td>Never Have I Ever</td>\n",
       "      <td>(2020– )</td>\n",
       "      <td>\\nComedy</td>\n",
       "      <td>7.9</td>\n",
       "      <td>\\nThe complicated life of a modern-day first g...</td>\n",
       "      <td>\\n            \\n    Stars:\\nMaitreyi Ramakrish...</td>\n",
       "      <td>34,530</td>\n",
       "      <td>30.0</td>\n",
       "      <td>NaN</td>\n",
       "    </tr>\n",
       "    <tr>\n",
       "      <th>9</th>\n",
       "      <td>Virgin River</td>\n",
       "      <td>(2019– )</td>\n",
       "      <td>\\nDrama, Romance</td>\n",
       "      <td>7.4</td>\n",
       "      <td>\\nSeeking a fresh start, nurse practitioner Me...</td>\n",
       "      <td>\\n            \\n    Stars:\\nAlexandra Breckenr...</td>\n",
       "      <td>27,279</td>\n",
       "      <td>44.0</td>\n",
       "      <td>NaN</td>\n",
       "    </tr>\n",
       "  </tbody>\n",
       "</table>\n",
       "</div>"
      ],
      "text/plain": [
       "                                MOVIES         YEAR  \\\n",
       "0                        Blood Red Sky       (2021)   \n",
       "1  Masters of the Universe: Revelation     (2021– )   \n",
       "2                     The Walking Dead  (2010–2022)   \n",
       "3                       Rick and Morty     (2013– )   \n",
       "4                      Army of Thieves       (2021)   \n",
       "5                          Outer Banks     (2020– )   \n",
       "6      The Last Letter from Your Lover       (2021)   \n",
       "7                               Dexter  (2006–2013)   \n",
       "8                    Never Have I Ever     (2020– )   \n",
       "9                         Virgin River     (2019– )   \n",
       "\n",
       "                                        GENRE  RATING  \\\n",
       "0      \\nAction, Horror, Thriller                 6.1   \n",
       "1  \\nAnimation, Action, Adventure                 5.0   \n",
       "2       \\nDrama, Horror, Thriller                 8.2   \n",
       "3  \\nAnimation, Adventure, Comedy                 9.2   \n",
       "4         \\nAction, Crime, Horror                 NaN   \n",
       "5          \\nAction, Crime, Drama                 7.6   \n",
       "6                \\nDrama, Romance                 6.8   \n",
       "7         \\nCrime, Drama, Mystery                 8.6   \n",
       "8                        \\nComedy                 7.9   \n",
       "9                \\nDrama, Romance                 7.4   \n",
       "\n",
       "                                            ONE-LINE  \\\n",
       "0  \\nA woman with a mysterious illness is forced ...   \n",
       "1  \\nThe war for Eternia begins again in what may...   \n",
       "2  \\nSheriff Deputy Rick Grimes wakes up from a c...   \n",
       "3  \\nAn animated series that follows the exploits...   \n",
       "4  \\nA prequel, set before the events of Army of ...   \n",
       "5  \\nA group of teenagers from the wrong side of ...   \n",
       "6  \\nA pair of interwoven stories set in the past...   \n",
       "7  \\nBy day, mild-mannered Dexter is a blood-spat...   \n",
       "8  \\nThe complicated life of a modern-day first g...   \n",
       "9  \\nSeeking a fresh start, nurse practitioner Me...   \n",
       "\n",
       "                                               STARS    VOTES  RunTime Gross  \n",
       "0  \\n    Director:\\nPeter Thorwarth\\n| \\n    Star...   21,062    121.0   NaN  \n",
       "1  \\n            \\n    Stars:\\nChris Wood, \\nSara...   17,870     25.0   NaN  \n",
       "2  \\n            \\n    Stars:\\nAndrew Lincoln, \\n...  885,805     44.0   NaN  \n",
       "3  \\n            \\n    Stars:\\nJustin Roiland, \\n...  414,849     23.0   NaN  \n",
       "4  \\n    Director:\\nMatthias Schweighöfer\\n| \\n  ...      NaN      NaN   NaN  \n",
       "5  \\n            \\n    Stars:\\nChase Stokes, \\nMa...   25,858     50.0   NaN  \n",
       "6  \\n    Director:\\nAugustine Frizzell\\n| \\n    S...    5,283    110.0   NaN  \n",
       "7  \\n            \\n    Stars:\\nMichael C. Hall, \\...  665,387     53.0   NaN  \n",
       "8  \\n            \\n    Stars:\\nMaitreyi Ramakrish...   34,530     30.0   NaN  \n",
       "9  \\n            \\n    Stars:\\nAlexandra Breckenr...   27,279     44.0   NaN  "
      ]
     },
     "execution_count": 243,
     "metadata": {},
     "output_type": "execute_result"
    }
   ],
   "source": [
    "my_dataset=pd.read_csv('../movies.csv')\n",
    "my_dataset.shape\n",
    "my_dataset.head(10)"
   ]
  },
  {
   "cell_type": "code",
   "execution_count": 244,
   "metadata": {},
   "outputs": [
    {
     "data": {
      "text/plain": [
       "MOVIES       0.000000\n",
       "YEAR         6.440644\n",
       "GENRE        0.800080\n",
       "RATING      18.201820\n",
       "ONE-LINE     0.000000\n",
       "STARS        0.000000\n",
       "VOTES       18.201820\n",
       "RunTime     29.582958\n",
       "Gross       95.399540\n",
       "dtype: float64"
      ]
     },
     "execution_count": 244,
     "metadata": {},
     "output_type": "execute_result"
    }
   ],
   "source": [
    "(my_dataset.isnull().sum())/(my_dataset.shape[0])*100"
   ]
  },
  {
   "cell_type": "code",
   "execution_count": 245,
   "metadata": {},
   "outputs": [
    {
     "data": {
      "image/png": "[encoded data removed]",
      "text/plain": [
       "<Figure size 640x480 with 2 Axes>"
      ]
     },
     "metadata": {},
     "output_type": "display_data"
    }
   ],
   "source": [
    "sns.heatmap(my_dataset.isnull())\n",
    "plt.show()"
   ]
  },
  {
   "cell_type": "code",
   "execution_count": 246,
   "metadata": {},
   "outputs": [
    {
     "name": "stdout",
     "output_type": "stream",
     "text": [
      "<class 'pandas.core.frame.DataFrame'>\n",
      "RangeIndex: 9999 entries, 0 to 9998\n",
      "Data columns (total 9 columns):\n",
      " #   Column    Non-Null Count  Dtype  \n",
      "---  ------    --------------  -----  \n",
      " 0   MOVIES    9999 non-null   object \n",
      " 1   YEAR      9355 non-null   object \n",
      " 2   GENRE     9919 non-null   object \n",
      " 3   RATING    8179 non-null   float64\n",
      " 4   ONE-LINE  9999 non-null   object \n",
      " 5   STARS     9999 non-null   object \n",
      " 6   VOTES     8179 non-null   object \n",
      " 7   RunTime   7041 non-null   float64\n",
      " 8   Gross     460 non-null    object \n",
      "dtypes: float64(2), object(7)\n",
      "memory usage: 703.2+ KB\n"
     ]
    }
   ],
   "source": [
    "my_dataset.info()"
   ]
  },
  {
   "cell_type": "code",
   "execution_count": 247,
   "metadata": {},
   "outputs": [
    {
     "data": {
      "text/plain": [
       "<Axes: xlabel='RunTime'>"
      ]
     },
     "execution_count": 247,
     "metadata": {},
     "output_type": "execute_result"
    },
    {
     "data": {
      "image/png": "[encoded data removed]",
      "text/plain": [
       "<Figure size 640x480 with 1 Axes>"
      ]
     },
     "metadata": {},
     "output_type": "display_data"
    }
   ],
   "source": [
    "sns.boxplot(x='RunTime',data=my_dataset)"
   ]
  },
  {
   "cell_type": "code",
   "execution_count": 248,
   "metadata": {},
   "outputs": [
    {
     "data": {
      "text/html": [
       "<div>\n",
       "<style scoped>\n",
       "    .dataframe tbody tr th:only-of-type {\n",
       "        vertical-align: middle;\n",
       "    }\n",
       "\n",
       "    .dataframe tbody tr th {\n",
       "        vertical-align: top;\n",
       "    }\n",
       "\n",
       "    .dataframe thead th {\n",
       "        text-align: right;\n",
       "    }\n",
       "</style>\n",
       "<table border=\"1\" class=\"dataframe\">\n",
       "  <thead>\n",
       "    <tr style=\"text-align: right;\">\n",
       "      <th></th>\n",
       "      <th>RATING</th>\n",
       "      <th>RunTime</th>\n",
       "    </tr>\n",
       "  </thead>\n",
       "  <tbody>\n",
       "    <tr>\n",
       "      <th>count</th>\n",
       "      <td>8179.000000</td>\n",
       "      <td>7041.000000</td>\n",
       "    </tr>\n",
       "    <tr>\n",
       "      <th>mean</th>\n",
       "      <td>6.921176</td>\n",
       "      <td>68.688539</td>\n",
       "    </tr>\n",
       "    <tr>\n",
       "      <th>std</th>\n",
       "      <td>1.220232</td>\n",
       "      <td>47.258056</td>\n",
       "    </tr>\n",
       "    <tr>\n",
       "      <th>min</th>\n",
       "      <td>1.100000</td>\n",
       "      <td>1.000000</td>\n",
       "    </tr>\n",
       "    <tr>\n",
       "      <th>25%</th>\n",
       "      <td>6.200000</td>\n",
       "      <td>36.000000</td>\n",
       "    </tr>\n",
       "    <tr>\n",
       "      <th>50%</th>\n",
       "      <td>7.100000</td>\n",
       "      <td>60.000000</td>\n",
       "    </tr>\n",
       "    <tr>\n",
       "      <th>75%</th>\n",
       "      <td>7.800000</td>\n",
       "      <td>95.000000</td>\n",
       "    </tr>\n",
       "    <tr>\n",
       "      <th>max</th>\n",
       "      <td>9.900000</td>\n",
       "      <td>853.000000</td>\n",
       "    </tr>\n",
       "  </tbody>\n",
       "</table>\n",
       "</div>"
      ],
      "text/plain": [
       "            RATING      RunTime\n",
       "count  8179.000000  7041.000000\n",
       "mean      6.921176    68.688539\n",
       "std       1.220232    47.258056\n",
       "min       1.100000     1.000000\n",
       "25%       6.200000    36.000000\n",
       "50%       7.100000    60.000000\n",
       "75%       7.800000    95.000000\n",
       "max       9.900000   853.000000"
      ]
     },
     "execution_count": 248,
     "metadata": {},
     "output_type": "execute_result"
    }
   ],
   "source": [
    "my_dataset.describe()"
   ]
  },
  {
   "cell_type": "code",
   "execution_count": 249,
   "metadata": {},
   "outputs": [
    {
     "data": {
      "text/plain": [
       "0       121.0\n",
       "1        25.0\n",
       "2        44.0\n",
       "3        23.0\n",
       "4        60.0\n",
       "        ...  \n",
       "9994     60.0\n",
       "9995     60.0\n",
       "9996     60.0\n",
       "9997     60.0\n",
       "9998     60.0\n",
       "Name: RunTime, Length: 9999, dtype: float64"
      ]
     },
     "execution_count": 249,
     "metadata": {},
     "output_type": "execute_result"
    }
   ],
   "source": [
    "my_dataset['RunTime'].fillna(my_dataset['RunTime'].median())\n"
   ]
  },
  {
   "cell_type": "code",
   "execution_count": 250,
   "metadata": {},
   "outputs": [
    {
     "data": {
      "text/plain": [
       "MOVIES         0\n",
       "YEAR         644\n",
       "GENRE         80\n",
       "RATING      1820\n",
       "ONE-LINE       0\n",
       "STARS          0\n",
       "VOTES       1820\n",
       "RunTime     2958\n",
       "Gross       9539\n",
       "dtype: int64"
      ]
     },
     "execution_count": 250,
     "metadata": {},
     "output_type": "execute_result"
    }
   ],
   "source": [
    "my_dataset.isnull().sum()\n"
   ]
  },
  {
   "cell_type": "code",
   "execution_count": 251,
   "metadata": {},
   "outputs": [
    {
     "data": {
      "text/plain": [
       "<Axes: >"
      ]
     },
     "execution_count": 251,
     "metadata": {},
     "output_type": "execute_result"
    },
    {
     "data": {
      "image/png": "[encoded data removed]",
      "text/plain": [
       "<Figure size 640x480 with 2 Axes>"
      ]
     },
     "metadata": {},
     "output_type": "display_data"
    }
   ],
   "source": [
    "sns.heatmap(my_dataset.isnull())"
   ]
  },
  {
   "cell_type": "code",
   "execution_count": 252,
   "metadata": {},
   "outputs": [
    {
     "data": {
      "text/plain": [
       "<Axes: xlabel='VOTES'>"
      ]
     },
     "execution_count": 252,
     "metadata": {},
     "output_type": "execute_result"
    },
    {
     "data": {
      "image/png": "[encoded data removed]",
      "text/plain": [
       "<Figure size 1000x200 with 1 Axes>"
      ]
     },
     "metadata": {},
     "output_type": "display_data"
    }
   ],
   "source": [
    "plt.figure(figsize=(10,2))\n",
    "sns.boxplot(x='VOTES',data=my_dataset)"
   ]
  },
  {
   "cell_type": "code",
   "execution_count": 253,
   "metadata": {},
   "outputs": [
    {
     "data": {
      "text/html": [
       "<div>\n",
       "<style scoped>\n",
       "    .dataframe tbody tr th:only-of-type {\n",
       "        vertical-align: middle;\n",
       "    }\n",
       "\n",
       "    .dataframe tbody tr th {\n",
       "        vertical-align: top;\n",
       "    }\n",
       "\n",
       "    .dataframe thead th {\n",
       "        text-align: right;\n",
       "    }\n",
       "</style>\n",
       "<table border=\"1\" class=\"dataframe\">\n",
       "  <thead>\n",
       "    <tr style=\"text-align: right;\">\n",
       "      <th></th>\n",
       "      <th>MOVIES</th>\n",
       "      <th>YEAR</th>\n",
       "      <th>GENRE</th>\n",
       "      <th>RATING</th>\n",
       "      <th>ONE-LINE</th>\n",
       "      <th>STARS</th>\n",
       "      <th>VOTES</th>\n",
       "      <th>RunTime</th>\n",
       "      <th>Gross</th>\n",
       "    </tr>\n",
       "  </thead>\n",
       "  <tbody>\n",
       "    <tr>\n",
       "      <th>0</th>\n",
       "      <td>Blood Red Sky</td>\n",
       "      <td>(2021)</td>\n",
       "      <td>\\nAction, Horror, Thriller</td>\n",
       "      <td>6.1</td>\n",
       "      <td>\\nA woman with a mysterious illness is forced ...</td>\n",
       "      <td>\\n    Director:\\nPeter Thorwarth\\n| \\n    Star...</td>\n",
       "      <td>21,062</td>\n",
       "      <td>121.0</td>\n",
       "      <td>NaN</td>\n",
       "    </tr>\n",
       "    <tr>\n",
       "      <th>1</th>\n",
       "      <td>Masters of the Universe: Revelation</td>\n",
       "      <td>(2021– )</td>\n",
       "      <td>\\nAnimation, Action, Adventure</td>\n",
       "      <td>5.0</td>\n",
       "      <td>\\nThe war for Eternia begins again in what may...</td>\n",
       "      <td>\\n            \\n    Stars:\\nChris Wood, \\nSara...</td>\n",
       "      <td>17,870</td>\n",
       "      <td>25.0</td>\n",
       "      <td>NaN</td>\n",
       "    </tr>\n",
       "    <tr>\n",
       "      <th>2</th>\n",
       "      <td>The Walking Dead</td>\n",
       "      <td>(2010–2022)</td>\n",
       "      <td>\\nDrama, Horror, Thriller</td>\n",
       "      <td>8.2</td>\n",
       "      <td>\\nSheriff Deputy Rick Grimes wakes up from a c...</td>\n",
       "      <td>\\n            \\n    Stars:\\nAndrew Lincoln, \\n...</td>\n",
       "      <td>885,805</td>\n",
       "      <td>44.0</td>\n",
       "      <td>NaN</td>\n",
       "    </tr>\n",
       "    <tr>\n",
       "      <th>3</th>\n",
       "      <td>Rick and Morty</td>\n",
       "      <td>(2013– )</td>\n",
       "      <td>\\nAnimation, Adventure, Comedy</td>\n",
       "      <td>9.2</td>\n",
       "      <td>\\nAn animated series that follows the exploits...</td>\n",
       "      <td>\\n            \\n    Stars:\\nJustin Roiland, \\n...</td>\n",
       "      <td>414,849</td>\n",
       "      <td>23.0</td>\n",
       "      <td>NaN</td>\n",
       "    </tr>\n",
       "    <tr>\n",
       "      <th>4</th>\n",
       "      <td>Army of Thieves</td>\n",
       "      <td>(2021)</td>\n",
       "      <td>\\nAction, Crime, Horror</td>\n",
       "      <td>NaN</td>\n",
       "      <td>\\nA prequel, set before the events of Army of ...</td>\n",
       "      <td>\\n    Director:\\nMatthias Schweighöfer\\n| \\n  ...</td>\n",
       "      <td>NaN</td>\n",
       "      <td>NaN</td>\n",
       "      <td>NaN</td>\n",
       "    </tr>\n",
       "    <tr>\n",
       "      <th>5</th>\n",
       "      <td>Outer Banks</td>\n",
       "      <td>(2020– )</td>\n",
       "      <td>\\nAction, Crime, Drama</td>\n",
       "      <td>7.6</td>\n",
       "      <td>\\nA group of teenagers from the wrong side of ...</td>\n",
       "      <td>\\n            \\n    Stars:\\nChase Stokes, \\nMa...</td>\n",
       "      <td>25,858</td>\n",
       "      <td>50.0</td>\n",
       "      <td>NaN</td>\n",
       "    </tr>\n",
       "    <tr>\n",
       "      <th>6</th>\n",
       "      <td>The Last Letter from Your Lover</td>\n",
       "      <td>(2021)</td>\n",
       "      <td>\\nDrama, Romance</td>\n",
       "      <td>6.8</td>\n",
       "      <td>\\nA pair of interwoven stories set in the past...</td>\n",
       "      <td>\\n    Director:\\nAugustine Frizzell\\n| \\n    S...</td>\n",
       "      <td>5,283</td>\n",
       "      <td>110.0</td>\n",
       "      <td>NaN</td>\n",
       "    </tr>\n",
       "    <tr>\n",
       "      <th>7</th>\n",
       "      <td>Dexter</td>\n",
       "      <td>(2006–2013)</td>\n",
       "      <td>\\nCrime, Drama, Mystery</td>\n",
       "      <td>8.6</td>\n",
       "      <td>\\nBy day, mild-mannered Dexter is a blood-spat...</td>\n",
       "      <td>\\n            \\n    Stars:\\nMichael C. Hall, \\...</td>\n",
       "      <td>665,387</td>\n",
       "      <td>53.0</td>\n",
       "      <td>NaN</td>\n",
       "    </tr>\n",
       "    <tr>\n",
       "      <th>8</th>\n",
       "      <td>Never Have I Ever</td>\n",
       "      <td>(2020– )</td>\n",
       "      <td>\\nComedy</td>\n",
       "      <td>7.9</td>\n",
       "      <td>\\nThe complicated life of a modern-day first g...</td>\n",
       "      <td>\\n            \\n    Stars:\\nMaitreyi Ramakrish...</td>\n",
       "      <td>34,530</td>\n",
       "      <td>30.0</td>\n",
       "      <td>NaN</td>\n",
       "    </tr>\n",
       "    <tr>\n",
       "      <th>9</th>\n",
       "      <td>Virgin River</td>\n",
       "      <td>(2019– )</td>\n",
       "      <td>\\nDrama, Romance</td>\n",
       "      <td>7.4</td>\n",
       "      <td>\\nSeeking a fresh start, nurse practitioner Me...</td>\n",
       "      <td>\\n            \\n    Stars:\\nAlexandra Breckenr...</td>\n",
       "      <td>27,279</td>\n",
       "      <td>44.0</td>\n",
       "      <td>NaN</td>\n",
       "    </tr>\n",
       "  </tbody>\n",
       "</table>\n",
       "</div>"
      ],
      "text/plain": [
       "                                MOVIES         YEAR  \\\n",
       "0                        Blood Red Sky       (2021)   \n",
       "1  Masters of the Universe: Revelation     (2021– )   \n",
       "2                     The Walking Dead  (2010–2022)   \n",
       "3                       Rick and Morty     (2013– )   \n",
       "4                      Army of Thieves       (2021)   \n",
       "5                          Outer Banks     (2020– )   \n",
       "6      The Last Letter from Your Lover       (2021)   \n",
       "7                               Dexter  (2006–2013)   \n",
       "8                    Never Have I Ever     (2020– )   \n",
       "9                         Virgin River     (2019– )   \n",
       "\n",
       "                                        GENRE  RATING  \\\n",
       "0      \\nAction, Horror, Thriller                 6.1   \n",
       "1  \\nAnimation, Action, Adventure                 5.0   \n",
       "2       \\nDrama, Horror, Thriller                 8.2   \n",
       "3  \\nAnimation, Adventure, Comedy                 9.2   \n",
       "4         \\nAction, Crime, Horror                 NaN   \n",
       "5          \\nAction, Crime, Drama                 7.6   \n",
       "6                \\nDrama, Romance                 6.8   \n",
       "7         \\nCrime, Drama, Mystery                 8.6   \n",
       "8                        \\nComedy                 7.9   \n",
       "9                \\nDrama, Romance                 7.4   \n",
       "\n",
       "                                            ONE-LINE  \\\n",
       "0  \\nA woman with a mysterious illness is forced ...   \n",
       "1  \\nThe war for Eternia begins again in what may...   \n",
       "2  \\nSheriff Deputy Rick Grimes wakes up from a c...   \n",
       "3  \\nAn animated series that follows the exploits...   \n",
       "4  \\nA prequel, set before the events of Army of ...   \n",
       "5  \\nA group of teenagers from the wrong side of ...   \n",
       "6  \\nA pair of interwoven stories set in the past...   \n",
       "7  \\nBy day, mild-mannered Dexter is a blood-spat...   \n",
       "8  \\nThe complicated life of a modern-day first g...   \n",
       "9  \\nSeeking a fresh start, nurse practitioner Me...   \n",
       "\n",
       "                                               STARS    VOTES  RunTime Gross  \n",
       "0  \\n    Director:\\nPeter Thorwarth\\n| \\n    Star...   21,062    121.0   NaN  \n",
       "1  \\n            \\n    Stars:\\nChris Wood, \\nSara...   17,870     25.0   NaN  \n",
       "2  \\n            \\n    Stars:\\nAndrew Lincoln, \\n...  885,805     44.0   NaN  \n",
       "3  \\n            \\n    Stars:\\nJustin Roiland, \\n...  414,849     23.0   NaN  \n",
       "4  \\n    Director:\\nMatthias Schweighöfer\\n| \\n  ...      NaN      NaN   NaN  \n",
       "5  \\n            \\n    Stars:\\nChase Stokes, \\nMa...   25,858     50.0   NaN  \n",
       "6  \\n    Director:\\nAugustine Frizzell\\n| \\n    S...    5,283    110.0   NaN  \n",
       "7  \\n            \\n    Stars:\\nMichael C. Hall, \\...  665,387     53.0   NaN  \n",
       "8  \\n            \\n    Stars:\\nMaitreyi Ramakrish...   34,530     30.0   NaN  \n",
       "9  \\n            \\n    Stars:\\nAlexandra Breckenr...   27,279     44.0   NaN  "
      ]
     },
     "execution_count": 253,
     "metadata": {},
     "output_type": "execute_result"
    }
   ],
   "source": [
    "my_dataset.describe()\n",
    "my_dataset.head(10)"
   ]
  },
  {
   "cell_type": "code",
   "execution_count": 254,
   "metadata": {},
   "outputs": [
    {
     "name": "stderr",
     "output_type": "stream",
     "text": [
      "/var/folders/34/3wp7qxj90gb3d60ymvblmvt80000gn/T/ipykernel_30979/1173766931.py:1: FutureWarning: A value is trying to be set on a copy of a DataFrame or Series through chained assignment using an inplace method.\n",
      "The behavior will change in pandas 3.0. This inplace method will never work because the intermediate object on which we are setting values always behaves as a copy.\n",
      "\n",
      "For example, when doing 'df[col].method(value, inplace=True)', try using 'df.method({col: value}, inplace=True)' or df[col] = df[col].method(value) instead, to perform the operation inplace on the original object.\n",
      "\n",
      "\n",
      "  my_dataset['VOTES'].fillna(my_dataset['VOTES'].mode()[0],inplace=True)\n"
     ]
    },
    {
     "data": {
      "text/plain": [
       "MOVIES         0\n",
       "YEAR         644\n",
       "GENRE         80\n",
       "RATING      1820\n",
       "ONE-LINE       0\n",
       "STARS          0\n",
       "VOTES          0\n",
       "RunTime     2958\n",
       "Gross       9539\n",
       "dtype: int64"
      ]
     },
     "execution_count": 254,
     "metadata": {},
     "output_type": "execute_result"
    }
   ],
   "source": [
    "my_dataset['VOTES'].fillna(my_dataset['VOTES'].mode()[0],inplace=True)\n",
    "my_dataset.isnull().sum()"
   ]
  },
  {
   "cell_type": "code",
   "execution_count": 255,
   "metadata": {},
   "outputs": [
    {
     "data": {
      "text/plain": [
       "<Axes: >"
      ]
     },
     "execution_count": 255,
     "metadata": {},
     "output_type": "execute_result"
    },
    {
     "data": {
      "image/png": "[encoded data removed]",
      "text/plain": [
       "<Figure size 640x480 with 2 Axes>"
      ]
     },
     "metadata": {},
     "output_type": "display_data"
    }
   ],
   "source": [
    "sns.heatmap(my_dataset.isnull())"
   ]
  },
  {
   "cell_type": "code",
   "execution_count": 256,
   "metadata": {},
   "outputs": [
    {
     "data": {
      "text/html": [
       "<div>\n",
       "<style scoped>\n",
       "    .dataframe tbody tr th:only-of-type {\n",
       "        vertical-align: middle;\n",
       "    }\n",
       "\n",
       "    .dataframe tbody tr th {\n",
       "        vertical-align: top;\n",
       "    }\n",
       "\n",
       "    .dataframe thead th {\n",
       "        text-align: right;\n",
       "    }\n",
       "</style>\n",
       "<table border=\"1\" class=\"dataframe\">\n",
       "  <thead>\n",
       "    <tr style=\"text-align: right;\">\n",
       "      <th></th>\n",
       "      <th>RATING</th>\n",
       "      <th>RunTime</th>\n",
       "    </tr>\n",
       "  </thead>\n",
       "  <tbody>\n",
       "    <tr>\n",
       "      <th>count</th>\n",
       "      <td>8179.000000</td>\n",
       "      <td>7041.000000</td>\n",
       "    </tr>\n",
       "    <tr>\n",
       "      <th>mean</th>\n",
       "      <td>6.921176</td>\n",
       "      <td>68.688539</td>\n",
       "    </tr>\n",
       "    <tr>\n",
       "      <th>std</th>\n",
       "      <td>1.220232</td>\n",
       "      <td>47.258056</td>\n",
       "    </tr>\n",
       "    <tr>\n",
       "      <th>min</th>\n",
       "      <td>1.100000</td>\n",
       "      <td>1.000000</td>\n",
       "    </tr>\n",
       "    <tr>\n",
       "      <th>25%</th>\n",
       "      <td>6.200000</td>\n",
       "      <td>36.000000</td>\n",
       "    </tr>\n",
       "    <tr>\n",
       "      <th>50%</th>\n",
       "      <td>7.100000</td>\n",
       "      <td>60.000000</td>\n",
       "    </tr>\n",
       "    <tr>\n",
       "      <th>75%</th>\n",
       "      <td>7.800000</td>\n",
       "      <td>95.000000</td>\n",
       "    </tr>\n",
       "    <tr>\n",
       "      <th>max</th>\n",
       "      <td>9.900000</td>\n",
       "      <td>853.000000</td>\n",
       "    </tr>\n",
       "  </tbody>\n",
       "</table>\n",
       "</div>"
      ],
      "text/plain": [
       "            RATING      RunTime\n",
       "count  8179.000000  7041.000000\n",
       "mean      6.921176    68.688539\n",
       "std       1.220232    47.258056\n",
       "min       1.100000     1.000000\n",
       "25%       6.200000    36.000000\n",
       "50%       7.100000    60.000000\n",
       "75%       7.800000    95.000000\n",
       "max       9.900000   853.000000"
      ]
     },
     "execution_count": 256,
     "metadata": {},
     "output_type": "execute_result"
    }
   ],
   "source": [
    "my_dataset.describe()"
   ]
  },
  {
   "cell_type": "code",
   "execution_count": 257,
   "metadata": {},
   "outputs": [
    {
     "data": {
      "text/plain": [
       "<Axes: xlabel='RATING'>"
      ]
     },
     "execution_count": 257,
     "metadata": {},
     "output_type": "execute_result"
    },
    {
     "data": {
      "image/png": "[encoded data removed]",
      "text/plain": [
       "<Figure size 640x480 with 1 Axes>"
      ]
     },
     "metadata": {},
     "output_type": "display_data"
    }
   ],
   "source": [
    "sns.boxplot(x='RATING',data=my_dataset)"
   ]
  },
  {
   "cell_type": "code",
   "execution_count": 258,
   "metadata": {},
   "outputs": [
    {
     "data": {
      "text/plain": [
       "MOVIES         0\n",
       "YEAR         644\n",
       "GENRE         80\n",
       "RATING      1820\n",
       "ONE-LINE       0\n",
       "STARS          0\n",
       "VOTES          0\n",
       "RunTime     2958\n",
       "Gross       9539\n",
       "dtype: int64"
      ]
     },
     "execution_count": 258,
     "metadata": {},
     "output_type": "execute_result"
    }
   ],
   "source": [
    "my_dataset['RATING'].fillna(my_dataset['RATING'].mean())\n",
    "my_dataset.isnull().sum()"
   ]
  },
  {
   "cell_type": "code",
   "execution_count": 259,
   "metadata": {},
   "outputs": [
    {
     "data": {
      "text/plain": [
       "<Axes: >"
      ]
     },
     "execution_count": 259,
     "metadata": {},
     "output_type": "execute_result"
    },
    {
     "data": {
      "image/png": "[encoded data removed]",
      "text/plain": [
       "<Figure size 640x480 with 2 Axes>"
      ]
     },
     "metadata": {},
     "output_type": "display_data"
    }
   ],
   "source": [
    "sns.heatmap(my_dataset.isnull())"
   ]
  },
  {
   "cell_type": "code",
   "execution_count": 260,
   "metadata": {},
   "outputs": [
    {
     "name": "stderr",
     "output_type": "stream",
     "text": [
      "/var/folders/34/3wp7qxj90gb3d60ymvblmvt80000gn/T/ipykernel_30979/1475323351.py:1: FutureWarning: A value is trying to be set on a copy of a DataFrame or Series through chained assignment using an inplace method.\n",
      "The behavior will change in pandas 3.0. This inplace method will never work because the intermediate object on which we are setting values always behaves as a copy.\n",
      "\n",
      "For example, when doing 'df[col].method(value, inplace=True)', try using 'df.method({col: value}, inplace=True)' or df[col] = df[col].method(value) instead, to perform the operation inplace on the original object.\n",
      "\n",
      "\n",
      "  my_dataset['YEAR'].fillna(my_dataset['YEAR'].mode()[0],inplace=True)\n"
     ]
    }
   ],
   "source": [
    "my_dataset['YEAR'].fillna(my_dataset['YEAR'].mode()[0],inplace=True)\n"
   ]
  },
  {
   "cell_type": "code",
   "execution_count": 261,
   "metadata": {},
   "outputs": [
    {
     "data": {
      "text/plain": [
       "np.int64(14397)"
      ]
     },
     "execution_count": 261,
     "metadata": {},
     "output_type": "execute_result"
    }
   ],
   "source": [
    "my_dataset.isnull().sum().sum()"
   ]
  },
  {
   "cell_type": "code",
   "execution_count": 262,
   "metadata": {},
   "outputs": [
    {
     "data": {
      "text/plain": [
       "0       False\n",
       "1       False\n",
       "2       False\n",
       "3       False\n",
       "4       False\n",
       "        ...  \n",
       "9994     True\n",
       "9995    False\n",
       "9996    False\n",
       "9997    False\n",
       "9998    False\n",
       "Length: 9999, dtype: bool"
      ]
     },
     "execution_count": 262,
     "metadata": {},
     "output_type": "execute_result"
    }
   ],
   "source": [
    "my_dataset.duplicated()"
   ]
  },
  {
   "cell_type": "code",
   "execution_count": 263,
   "metadata": {},
   "outputs": [
    {
     "data": {
      "text/plain": [
       "np.int64(0)"
      ]
     },
     "execution_count": 263,
     "metadata": {},
     "output_type": "execute_result"
    }
   ],
   "source": [
    "my_dataset.duplicated().sum()\n",
    "my_dataset.drop_duplicates(inplace=True)\n",
    "my_dataset.duplicated().sum()"
   ]
  },
  {
   "cell_type": "markdown",
   "metadata": {},
   "source": [
    "## Standarization (z-score scaling)"
   ]
  },
  {
   "cell_type": "code",
   "execution_count": 264,
   "metadata": {},
   "outputs": [
    {
     "data": {
      "text/html": [
       "<div>\n",
       "<style scoped>\n",
       "    .dataframe tbody tr th:only-of-type {\n",
       "        vertical-align: middle;\n",
       "    }\n",
       "\n",
       "    .dataframe tbody tr th {\n",
       "        vertical-align: top;\n",
       "    }\n",
       "\n",
       "    .dataframe thead th {\n",
       "        text-align: right;\n",
       "    }\n",
       "</style>\n",
       "<table border=\"1\" class=\"dataframe\">\n",
       "  <thead>\n",
       "    <tr style=\"text-align: right;\">\n",
       "      <th></th>\n",
       "      <th>MOVIES</th>\n",
       "      <th>YEAR</th>\n",
       "      <th>GENRE</th>\n",
       "      <th>RATING</th>\n",
       "      <th>ONE-LINE</th>\n",
       "      <th>STARS</th>\n",
       "      <th>VOTES</th>\n",
       "      <th>RunTime</th>\n",
       "      <th>Gross</th>\n",
       "    </tr>\n",
       "  </thead>\n",
       "  <tbody>\n",
       "    <tr>\n",
       "      <th>0</th>\n",
       "      <td>Blood Red Sky</td>\n",
       "      <td>(2021)</td>\n",
       "      <td>\\nAction, Horror, Thriller</td>\n",
       "      <td>6.1</td>\n",
       "      <td>\\nA woman with a mysterious illness is forced ...</td>\n",
       "      <td>\\n    Director:\\nPeter Thorwarth\\n| \\n    Star...</td>\n",
       "      <td>21,062</td>\n",
       "      <td>121.0</td>\n",
       "      <td>NaN</td>\n",
       "    </tr>\n",
       "    <tr>\n",
       "      <th>1</th>\n",
       "      <td>Masters of the Universe: Revelation</td>\n",
       "      <td>(2021– )</td>\n",
       "      <td>\\nAnimation, Action, Adventure</td>\n",
       "      <td>5.0</td>\n",
       "      <td>\\nThe war for Eternia begins again in what may...</td>\n",
       "      <td>\\n            \\n    Stars:\\nChris Wood, \\nSara...</td>\n",
       "      <td>17,870</td>\n",
       "      <td>25.0</td>\n",
       "      <td>NaN</td>\n",
       "    </tr>\n",
       "    <tr>\n",
       "      <th>2</th>\n",
       "      <td>The Walking Dead</td>\n",
       "      <td>(2010–2022)</td>\n",
       "      <td>\\nDrama, Horror, Thriller</td>\n",
       "      <td>8.2</td>\n",
       "      <td>\\nSheriff Deputy Rick Grimes wakes up from a c...</td>\n",
       "      <td>\\n            \\n    Stars:\\nAndrew Lincoln, \\n...</td>\n",
       "      <td>885,805</td>\n",
       "      <td>44.0</td>\n",
       "      <td>NaN</td>\n",
       "    </tr>\n",
       "    <tr>\n",
       "      <th>3</th>\n",
       "      <td>Rick and Morty</td>\n",
       "      <td>(2013– )</td>\n",
       "      <td>\\nAnimation, Adventure, Comedy</td>\n",
       "      <td>9.2</td>\n",
       "      <td>\\nAn animated series that follows the exploits...</td>\n",
       "      <td>\\n            \\n    Stars:\\nJustin Roiland, \\n...</td>\n",
       "      <td>414,849</td>\n",
       "      <td>23.0</td>\n",
       "      <td>NaN</td>\n",
       "    </tr>\n",
       "    <tr>\n",
       "      <th>4</th>\n",
       "      <td>Army of Thieves</td>\n",
       "      <td>(2021)</td>\n",
       "      <td>\\nAction, Crime, Horror</td>\n",
       "      <td>NaN</td>\n",
       "      <td>\\nA prequel, set before the events of Army of ...</td>\n",
       "      <td>\\n    Director:\\nMatthias Schweighöfer\\n| \\n  ...</td>\n",
       "      <td>7</td>\n",
       "      <td>NaN</td>\n",
       "      <td>NaN</td>\n",
       "    </tr>\n",
       "    <tr>\n",
       "      <th>5</th>\n",
       "      <td>Outer Banks</td>\n",
       "      <td>(2020– )</td>\n",
       "      <td>\\nAction, Crime, Drama</td>\n",
       "      <td>7.6</td>\n",
       "      <td>\\nA group of teenagers from the wrong side of ...</td>\n",
       "      <td>\\n            \\n    Stars:\\nChase Stokes, \\nMa...</td>\n",
       "      <td>25,858</td>\n",
       "      <td>50.0</td>\n",
       "      <td>NaN</td>\n",
       "    </tr>\n",
       "    <tr>\n",
       "      <th>6</th>\n",
       "      <td>The Last Letter from Your Lover</td>\n",
       "      <td>(2021)</td>\n",
       "      <td>\\nDrama, Romance</td>\n",
       "      <td>6.8</td>\n",
       "      <td>\\nA pair of interwoven stories set in the past...</td>\n",
       "      <td>\\n    Director:\\nAugustine Frizzell\\n| \\n    S...</td>\n",
       "      <td>5,283</td>\n",
       "      <td>110.0</td>\n",
       "      <td>NaN</td>\n",
       "    </tr>\n",
       "    <tr>\n",
       "      <th>7</th>\n",
       "      <td>Dexter</td>\n",
       "      <td>(2006–2013)</td>\n",
       "      <td>\\nCrime, Drama, Mystery</td>\n",
       "      <td>8.6</td>\n",
       "      <td>\\nBy day, mild-mannered Dexter is a blood-spat...</td>\n",
       "      <td>\\n            \\n    Stars:\\nMichael C. Hall, \\...</td>\n",
       "      <td>665,387</td>\n",
       "      <td>53.0</td>\n",
       "      <td>NaN</td>\n",
       "    </tr>\n",
       "    <tr>\n",
       "      <th>8</th>\n",
       "      <td>Never Have I Ever</td>\n",
       "      <td>(2020– )</td>\n",
       "      <td>\\nComedy</td>\n",
       "      <td>7.9</td>\n",
       "      <td>\\nThe complicated life of a modern-day first g...</td>\n",
       "      <td>\\n            \\n    Stars:\\nMaitreyi Ramakrish...</td>\n",
       "      <td>34,530</td>\n",
       "      <td>30.0</td>\n",
       "      <td>NaN</td>\n",
       "    </tr>\n",
       "    <tr>\n",
       "      <th>9</th>\n",
       "      <td>Virgin River</td>\n",
       "      <td>(2019– )</td>\n",
       "      <td>\\nDrama, Romance</td>\n",
       "      <td>7.4</td>\n",
       "      <td>\\nSeeking a fresh start, nurse practitioner Me...</td>\n",
       "      <td>\\n            \\n    Stars:\\nAlexandra Breckenr...</td>\n",
       "      <td>27,279</td>\n",
       "      <td>44.0</td>\n",
       "      <td>NaN</td>\n",
       "    </tr>\n",
       "  </tbody>\n",
       "</table>\n",
       "</div>"
      ],
      "text/plain": [
       "                                MOVIES         YEAR  \\\n",
       "0                        Blood Red Sky       (2021)   \n",
       "1  Masters of the Universe: Revelation     (2021– )   \n",
       "2                     The Walking Dead  (2010–2022)   \n",
       "3                       Rick and Morty     (2013– )   \n",
       "4                      Army of Thieves       (2021)   \n",
       "5                          Outer Banks     (2020– )   \n",
       "6      The Last Letter from Your Lover       (2021)   \n",
       "7                               Dexter  (2006–2013)   \n",
       "8                    Never Have I Ever     (2020– )   \n",
       "9                         Virgin River     (2019– )   \n",
       "\n",
       "                                        GENRE  RATING  \\\n",
       "0      \\nAction, Horror, Thriller                 6.1   \n",
       "1  \\nAnimation, Action, Adventure                 5.0   \n",
       "2       \\nDrama, Horror, Thriller                 8.2   \n",
       "3  \\nAnimation, Adventure, Comedy                 9.2   \n",
       "4         \\nAction, Crime, Horror                 NaN   \n",
       "5          \\nAction, Crime, Drama                 7.6   \n",
       "6                \\nDrama, Romance                 6.8   \n",
       "7         \\nCrime, Drama, Mystery                 8.6   \n",
       "8                        \\nComedy                 7.9   \n",
       "9                \\nDrama, Romance                 7.4   \n",
       "\n",
       "                                            ONE-LINE  \\\n",
       "0  \\nA woman with a mysterious illness is forced ...   \n",
       "1  \\nThe war for Eternia begins again in what may...   \n",
       "2  \\nSheriff Deputy Rick Grimes wakes up from a c...   \n",
       "3  \\nAn animated series that follows the exploits...   \n",
       "4  \\nA prequel, set before the events of Army of ...   \n",
       "5  \\nA group of teenagers from the wrong side of ...   \n",
       "6  \\nA pair of interwoven stories set in the past...   \n",
       "7  \\nBy day, mild-mannered Dexter is a blood-spat...   \n",
       "8  \\nThe complicated life of a modern-day first g...   \n",
       "9  \\nSeeking a fresh start, nurse practitioner Me...   \n",
       "\n",
       "                                               STARS    VOTES  RunTime Gross  \n",
       "0  \\n    Director:\\nPeter Thorwarth\\n| \\n    Star...   21,062    121.0   NaN  \n",
       "1  \\n            \\n    Stars:\\nChris Wood, \\nSara...   17,870     25.0   NaN  \n",
       "2  \\n            \\n    Stars:\\nAndrew Lincoln, \\n...  885,805     44.0   NaN  \n",
       "3  \\n            \\n    Stars:\\nJustin Roiland, \\n...  414,849     23.0   NaN  \n",
       "4  \\n    Director:\\nMatthias Schweighöfer\\n| \\n  ...        7      NaN   NaN  \n",
       "5  \\n            \\n    Stars:\\nChase Stokes, \\nMa...   25,858     50.0   NaN  \n",
       "6  \\n    Director:\\nAugustine Frizzell\\n| \\n    S...    5,283    110.0   NaN  \n",
       "7  \\n            \\n    Stars:\\nMichael C. Hall, \\...  665,387     53.0   NaN  \n",
       "8  \\n            \\n    Stars:\\nMaitreyi Ramakrish...   34,530     30.0   NaN  \n",
       "9  \\n            \\n    Stars:\\nAlexandra Breckenr...   27,279     44.0   NaN  "
      ]
     },
     "execution_count": 264,
     "metadata": {},
     "output_type": "execute_result"
    }
   ],
   "source": [
    "my_dataset.head(10)"
   ]
  },
  {
   "cell_type": "code",
   "execution_count": 265,
   "metadata": {},
   "outputs": [
    {
     "data": {
      "text/html": [
       "<div>\n",
       "<style scoped>\n",
       "    .dataframe tbody tr th:only-of-type {\n",
       "        vertical-align: middle;\n",
       "    }\n",
       "\n",
       "    .dataframe tbody tr th {\n",
       "        vertical-align: top;\n",
       "    }\n",
       "\n",
       "    .dataframe thead th {\n",
       "        text-align: right;\n",
       "    }\n",
       "</style>\n",
       "<table border=\"1\" class=\"dataframe\">\n",
       "  <thead>\n",
       "    <tr style=\"text-align: right;\">\n",
       "      <th></th>\n",
       "      <th>RATING</th>\n",
       "      <th>RunTime</th>\n",
       "    </tr>\n",
       "  </thead>\n",
       "  <tbody>\n",
       "    <tr>\n",
       "      <th>count</th>\n",
       "      <td>8168.000000</td>\n",
       "      <td>7008.000000</td>\n",
       "    </tr>\n",
       "    <tr>\n",
       "      <th>mean</th>\n",
       "      <td>6.919699</td>\n",
       "      <td>68.874144</td>\n",
       "    </tr>\n",
       "    <tr>\n",
       "      <th>std</th>\n",
       "      <td>1.219970</td>\n",
       "      <td>47.278890</td>\n",
       "    </tr>\n",
       "    <tr>\n",
       "      <th>min</th>\n",
       "      <td>1.100000</td>\n",
       "      <td>1.000000</td>\n",
       "    </tr>\n",
       "    <tr>\n",
       "      <th>25%</th>\n",
       "      <td>6.200000</td>\n",
       "      <td>37.000000</td>\n",
       "    </tr>\n",
       "    <tr>\n",
       "      <th>50%</th>\n",
       "      <td>7.100000</td>\n",
       "      <td>60.000000</td>\n",
       "    </tr>\n",
       "    <tr>\n",
       "      <th>75%</th>\n",
       "      <td>7.800000</td>\n",
       "      <td>95.000000</td>\n",
       "    </tr>\n",
       "    <tr>\n",
       "      <th>max</th>\n",
       "      <td>9.900000</td>\n",
       "      <td>853.000000</td>\n",
       "    </tr>\n",
       "  </tbody>\n",
       "</table>\n",
       "</div>"
      ],
      "text/plain": [
       "            RATING      RunTime\n",
       "count  8168.000000  7008.000000\n",
       "mean      6.919699    68.874144\n",
       "std       1.219970    47.278890\n",
       "min       1.100000     1.000000\n",
       "25%       6.200000    37.000000\n",
       "50%       7.100000    60.000000\n",
       "75%       7.800000    95.000000\n",
       "max       9.900000   853.000000"
      ]
     },
     "execution_count": 265,
     "metadata": {},
     "output_type": "execute_result"
    }
   ],
   "source": [
    "my_dataset.describe()"
   ]
  },
  {
   "cell_type": "code",
   "execution_count": 266,
   "metadata": {},
   "outputs": [
    {
     "name": "stderr",
     "output_type": "stream",
     "text": [
      "/var/folders/34/3wp7qxj90gb3d60ymvblmvt80000gn/T/ipykernel_30979/4251149630.py:1: UserWarning: \n",
      "\n",
      "`distplot` is a deprecated function and will be removed in seaborn v0.14.0.\n",
      "\n",
      "Please adapt your code to use either `displot` (a figure-level function with\n",
      "similar flexibility) or `histplot` (an axes-level function for histograms).\n",
      "\n",
      "For a guide to updating your code to use the new functions, please see\n",
      "https://gist.github.com/mwaskom/de44147ed2974457ad6372750bbe5751\n",
      "\n",
      "  sns.distplot(my_dataset['RunTime'])\n"
     ]
    },
    {
     "data": {
      "text/plain": [
       "<Axes: xlabel='RunTime', ylabel='Density'>"
      ]
     },
     "execution_count": 266,
     "metadata": {},
     "output_type": "execute_result"
    },
    {
     "data": {
      "image/png": "[encoded data removed]",
      "text/plain": [
       "<Figure size 640x480 with 1 Axes>"
      ]
     },
     "metadata": {},
     "output_type": "display_data"
    }
   ],
   "source": [
    "sns.distplot(my_dataset['RunTime'])"
   ]
  },
  {
   "cell_type": "code",
   "execution_count": 267,
   "metadata": {},
   "outputs": [
    {
     "data": {
      "text/html": [
       "<div>\n",
       "<style scoped>\n",
       "    .dataframe tbody tr th:only-of-type {\n",
       "        vertical-align: middle;\n",
       "    }\n",
       "\n",
       "    .dataframe tbody tr th {\n",
       "        vertical-align: top;\n",
       "    }\n",
       "\n",
       "    .dataframe thead th {\n",
       "        text-align: right;\n",
       "    }\n",
       "</style>\n",
       "<table border=\"1\" class=\"dataframe\">\n",
       "  <thead>\n",
       "    <tr style=\"text-align: right;\">\n",
       "      <th></th>\n",
       "      <th>MOVIES</th>\n",
       "      <th>YEAR</th>\n",
       "      <th>GENRE</th>\n",
       "      <th>RATING</th>\n",
       "      <th>ONE-LINE</th>\n",
       "      <th>STARS</th>\n",
       "      <th>VOTES</th>\n",
       "      <th>RunTime</th>\n",
       "      <th>Gross</th>\n",
       "      <th>RunTime_Scaler</th>\n",
       "    </tr>\n",
       "  </thead>\n",
       "  <tbody>\n",
       "    <tr>\n",
       "      <th>0</th>\n",
       "      <td>Blood Red Sky</td>\n",
       "      <td>(2021)</td>\n",
       "      <td>\\nAction, Horror, Thriller</td>\n",
       "      <td>6.1</td>\n",
       "      <td>\\nA woman with a mysterious illness is forced ...</td>\n",
       "      <td>\\n    Director:\\nPeter Thorwarth\\n| \\n    Star...</td>\n",
       "      <td>21,062</td>\n",
       "      <td>121.0</td>\n",
       "      <td>NaN</td>\n",
       "      <td>1.102597</td>\n",
       "    </tr>\n",
       "    <tr>\n",
       "      <th>1</th>\n",
       "      <td>Masters of the Universe: Revelation</td>\n",
       "      <td>(2021– )</td>\n",
       "      <td>\\nAnimation, Action, Adventure</td>\n",
       "      <td>5.0</td>\n",
       "      <td>\\nThe war for Eternia begins again in what may...</td>\n",
       "      <td>\\n            \\n    Stars:\\nChris Wood, \\nSara...</td>\n",
       "      <td>17,870</td>\n",
       "      <td>25.0</td>\n",
       "      <td>NaN</td>\n",
       "      <td>-0.928052</td>\n",
       "    </tr>\n",
       "    <tr>\n",
       "      <th>2</th>\n",
       "      <td>The Walking Dead</td>\n",
       "      <td>(2010–2022)</td>\n",
       "      <td>\\nDrama, Horror, Thriller</td>\n",
       "      <td>8.2</td>\n",
       "      <td>\\nSheriff Deputy Rick Grimes wakes up from a c...</td>\n",
       "      <td>\\n            \\n    Stars:\\nAndrew Lincoln, \\n...</td>\n",
       "      <td>885,805</td>\n",
       "      <td>44.0</td>\n",
       "      <td>NaN</td>\n",
       "      <td>-0.526153</td>\n",
       "    </tr>\n",
       "    <tr>\n",
       "      <th>3</th>\n",
       "      <td>Rick and Morty</td>\n",
       "      <td>(2013– )</td>\n",
       "      <td>\\nAnimation, Adventure, Comedy</td>\n",
       "      <td>9.2</td>\n",
       "      <td>\\nAn animated series that follows the exploits...</td>\n",
       "      <td>\\n            \\n    Stars:\\nJustin Roiland, \\n...</td>\n",
       "      <td>414,849</td>\n",
       "      <td>23.0</td>\n",
       "      <td>NaN</td>\n",
       "      <td>-0.970357</td>\n",
       "    </tr>\n",
       "    <tr>\n",
       "      <th>4</th>\n",
       "      <td>Army of Thieves</td>\n",
       "      <td>(2021)</td>\n",
       "      <td>\\nAction, Crime, Horror</td>\n",
       "      <td>NaN</td>\n",
       "      <td>\\nA prequel, set before the events of Army of ...</td>\n",
       "      <td>\\n    Director:\\nMatthias Schweighöfer\\n| \\n  ...</td>\n",
       "      <td>7</td>\n",
       "      <td>NaN</td>\n",
       "      <td>NaN</td>\n",
       "      <td>NaN</td>\n",
       "    </tr>\n",
       "  </tbody>\n",
       "</table>\n",
       "</div>"
      ],
      "text/plain": [
       "                                MOVIES         YEAR  \\\n",
       "0                        Blood Red Sky       (2021)   \n",
       "1  Masters of the Universe: Revelation     (2021– )   \n",
       "2                     The Walking Dead  (2010–2022)   \n",
       "3                       Rick and Morty     (2013– )   \n",
       "4                      Army of Thieves       (2021)   \n",
       "\n",
       "                                        GENRE  RATING  \\\n",
       "0      \\nAction, Horror, Thriller                 6.1   \n",
       "1  \\nAnimation, Action, Adventure                 5.0   \n",
       "2       \\nDrama, Horror, Thriller                 8.2   \n",
       "3  \\nAnimation, Adventure, Comedy                 9.2   \n",
       "4         \\nAction, Crime, Horror                 NaN   \n",
       "\n",
       "                                            ONE-LINE  \\\n",
       "0  \\nA woman with a mysterious illness is forced ...   \n",
       "1  \\nThe war for Eternia begins again in what may...   \n",
       "2  \\nSheriff Deputy Rick Grimes wakes up from a c...   \n",
       "3  \\nAn animated series that follows the exploits...   \n",
       "4  \\nA prequel, set before the events of Army of ...   \n",
       "\n",
       "                                               STARS    VOTES  RunTime Gross  \\\n",
       "0  \\n    Director:\\nPeter Thorwarth\\n| \\n    Star...   21,062    121.0   NaN   \n",
       "1  \\n            \\n    Stars:\\nChris Wood, \\nSara...   17,870     25.0   NaN   \n",
       "2  \\n            \\n    Stars:\\nAndrew Lincoln, \\n...  885,805     44.0   NaN   \n",
       "3  \\n            \\n    Stars:\\nJustin Roiland, \\n...  414,849     23.0   NaN   \n",
       "4  \\n    Director:\\nMatthias Schweighöfer\\n| \\n  ...        7      NaN   NaN   \n",
       "\n",
       "   RunTime_Scaler  \n",
       "0        1.102597  \n",
       "1       -0.928052  \n",
       "2       -0.526153  \n",
       "3       -0.970357  \n",
       "4             NaN  "
      ]
     },
     "execution_count": 267,
     "metadata": {},
     "output_type": "execute_result"
    }
   ],
   "source": [
    "from sklearn.preprocessing import StandardScaler\n",
    "scaler=StandardScaler()\n",
    "scaler.fit(my_dataset[[\"RunTime\"]])\n",
    "scaler.transform(my_dataset[[\"RunTime\"]])\n",
    "my_dataset['RunTime_Scaler']=scaler.transform(my_dataset[[\"RunTime\"]])\n",
    "my_dataset.head(5)"
   ]
  },
  {
   "cell_type": "code",
   "execution_count": 268,
   "metadata": {},
   "outputs": [
    {
     "name": "stderr",
     "output_type": "stream",
     "text": [
      "/var/folders/34/3wp7qxj90gb3d60ymvblmvt80000gn/T/ipykernel_30979/3047236438.py:1: UserWarning: \n",
      "\n",
      "`distplot` is a deprecated function and will be removed in seaborn v0.14.0.\n",
      "\n",
      "Please adapt your code to use either `displot` (a figure-level function with\n",
      "similar flexibility) or `histplot` (an axes-level function for histograms).\n",
      "\n",
      "For a guide to updating your code to use the new functions, please see\n",
      "https://gist.github.com/mwaskom/de44147ed2974457ad6372750bbe5751\n",
      "\n",
      "  sns.distplot(my_dataset['RunTime_Scaler'])\n"
     ]
    },
    {
     "data": {
      "text/plain": [
       "<Axes: xlabel='RunTime_Scaler', ylabel='Density'>"
      ]
     },
     "execution_count": 268,
     "metadata": {},
     "output_type": "execute_result"
    },
    {
     "data": {
      "image/png": "[encoded data removed]",
      "text/plain": [
       "<Figure size 640x480 with 1 Axes>"
      ]
     },
     "metadata": {},
     "output_type": "display_data"
    }
   ],
   "source": [
    "sns.distplot(my_dataset['RunTime_Scaler'])"
   ]
  },
  {
   "cell_type": "code",
   "execution_count": 269,
   "metadata": {},
   "outputs": [
    {
     "data": {
      "text/plain": [
       "<Axes: xlabel='RunTime_Scaler'>"
      ]
     },
     "execution_count": 269,
     "metadata": {},
     "output_type": "execute_result"
    },
    {
     "data": {
      "image/png": "[encoded data removed]",
      "text/plain": [
       "<Figure size 640x480 with 1 Axes>"
      ]
     },
     "metadata": {},
     "output_type": "display_data"
    }
   ],
   "source": [
    "sns.boxplot(x='RunTime_Scaler',data=my_dataset)"
   ]
  },
  {
   "cell_type": "code",
   "execution_count": 270,
   "metadata": {},
   "outputs": [
    {
     "data": {
      "text/plain": [
       "np.float64(1.226850690102519)"
      ]
     },
     "execution_count": 270,
     "metadata": {},
     "output_type": "execute_result"
    }
   ],
   "source": [
    "q1=my_dataset['RunTime_Scaler'].quantile(0.25)\n",
    "q3=my_dataset['RunTime_Scaler'].quantile(0.75)\n",
    "iqr=q3-q1\n",
    "iqr\n"
   ]
  },
  {
   "cell_type": "code",
   "execution_count": 271,
   "metadata": {},
   "outputs": [
    {
     "data": {
      "text/plain": [
       "(np.float64(-2.5144969896564158), np.float64(2.39290577075366))"
      ]
     },
     "execution_count": 271,
     "metadata": {},
     "output_type": "execute_result"
    }
   ],
   "source": [
    "min_range=q1-(1.5*iqr)\n",
    "max_range=q3+(1.5*iqr)\n",
    "min_range,max_range"
   ]
  },
  {
   "cell_type": "code",
   "execution_count": 272,
   "metadata": {},
   "outputs": [
    {
     "data": {
      "text/plain": [
       "(6903, 10)"
      ]
     },
     "execution_count": 272,
     "metadata": {},
     "output_type": "execute_result"
    }
   ],
   "source": [
    "my_dataset=my_dataset[my_dataset['RunTime_Scaler']<=max_range]\n",
    "my_dataset.shape"
   ]
  },
  {
   "cell_type": "code",
   "execution_count": 273,
   "metadata": {},
   "outputs": [
    {
     "data": {
      "text/plain": [
       "<Axes: xlabel='RunTime_Scaler'>"
      ]
     },
     "execution_count": 273,
     "metadata": {},
     "output_type": "execute_result"
    },
    {
     "data": {
      "image/png": "[encoded data removed]",
      "text/plain": [
       "<Figure size 640x480 with 1 Axes>"
      ]
     },
     "metadata": {},
     "output_type": "display_data"
    }
   ],
   "source": [
    "sns.boxplot(x='RunTime_Scaler',data=my_dataset)"
   ]
  },
  {
   "cell_type": "code",
   "execution_count": 274,
   "metadata": {},
   "outputs": [
    {
     "name": "stderr",
     "output_type": "stream",
     "text": [
      "/var/folders/34/3wp7qxj90gb3d60ymvblmvt80000gn/T/ipykernel_30979/3047236438.py:1: UserWarning: \n",
      "\n",
      "`distplot` is a deprecated function and will be removed in seaborn v0.14.0.\n",
      "\n",
      "Please adapt your code to use either `displot` (a figure-level function with\n",
      "similar flexibility) or `histplot` (an axes-level function for histograms).\n",
      "\n",
      "For a guide to updating your code to use the new functions, please see\n",
      "https://gist.github.com/mwaskom/de44147ed2974457ad6372750bbe5751\n",
      "\n",
      "  sns.distplot(my_dataset['RunTime_Scaler'])\n"
     ]
    },
    {
     "data": {
      "text/plain": [
       "<Axes: xlabel='RunTime_Scaler', ylabel='Density'>"
      ]
     },
     "execution_count": 274,
     "metadata": {},
     "output_type": "execute_result"
    },
    {
     "data": {
      "image/png": "[encoded data removed]",
      "text/plain": [
       "<Figure size 640x480 with 1 Axes>"
      ]
     },
     "metadata": {},
     "output_type": "display_data"
    }
   ],
   "source": [
    "sns.distplot(my_dataset['RunTime_Scaler'])"
   ]
  },
  {
   "cell_type": "code",
   "execution_count": 275,
   "metadata": {},
   "outputs": [
    {
     "data": {
      "text/html": [
       "<div>\n",
       "<style scoped>\n",
       "    .dataframe tbody tr th:only-of-type {\n",
       "        vertical-align: middle;\n",
       "    }\n",
       "\n",
       "    .dataframe tbody tr th {\n",
       "        vertical-align: top;\n",
       "    }\n",
       "\n",
       "    .dataframe thead th {\n",
       "        text-align: right;\n",
       "    }\n",
       "</style>\n",
       "<table border=\"1\" class=\"dataframe\">\n",
       "  <thead>\n",
       "    <tr style=\"text-align: right;\">\n",
       "      <th></th>\n",
       "      <th>MOVIES</th>\n",
       "      <th>YEAR</th>\n",
       "      <th>GENRE</th>\n",
       "      <th>RATING</th>\n",
       "      <th>ONE-LINE</th>\n",
       "      <th>STARS</th>\n",
       "      <th>VOTES</th>\n",
       "      <th>RunTime</th>\n",
       "      <th>Gross</th>\n",
       "      <th>RunTime_Scaler</th>\n",
       "    </tr>\n",
       "  </thead>\n",
       "  <tbody>\n",
       "    <tr>\n",
       "      <th>0</th>\n",
       "      <td>Blood Red Sky</td>\n",
       "      <td>(2021)</td>\n",
       "      <td>\\nAction, Horror, Thriller</td>\n",
       "      <td>6.1</td>\n",
       "      <td>\\nA woman with a mysterious illness is forced ...</td>\n",
       "      <td>\\n    Director:\\nPeter Thorwarth\\n| \\n    Star...</td>\n",
       "      <td>21,062</td>\n",
       "      <td>121.0</td>\n",
       "      <td>NaN</td>\n",
       "      <td>1.102597</td>\n",
       "    </tr>\n",
       "    <tr>\n",
       "      <th>1</th>\n",
       "      <td>Masters of the Universe: Revelation</td>\n",
       "      <td>(2021– )</td>\n",
       "      <td>\\nAnimation, Action, Adventure</td>\n",
       "      <td>5.0</td>\n",
       "      <td>\\nThe war for Eternia begins again in what may...</td>\n",
       "      <td>\\n            \\n    Stars:\\nChris Wood, \\nSara...</td>\n",
       "      <td>17,870</td>\n",
       "      <td>25.0</td>\n",
       "      <td>NaN</td>\n",
       "      <td>-0.928052</td>\n",
       "    </tr>\n",
       "    <tr>\n",
       "      <th>2</th>\n",
       "      <td>The Walking Dead</td>\n",
       "      <td>(2010–2022)</td>\n",
       "      <td>\\nDrama, Horror, Thriller</td>\n",
       "      <td>8.2</td>\n",
       "      <td>\\nSheriff Deputy Rick Grimes wakes up from a c...</td>\n",
       "      <td>\\n            \\n    Stars:\\nAndrew Lincoln, \\n...</td>\n",
       "      <td>885,805</td>\n",
       "      <td>44.0</td>\n",
       "      <td>NaN</td>\n",
       "      <td>-0.526153</td>\n",
       "    </tr>\n",
       "    <tr>\n",
       "      <th>3</th>\n",
       "      <td>Rick and Morty</td>\n",
       "      <td>(2013– )</td>\n",
       "      <td>\\nAnimation, Adventure, Comedy</td>\n",
       "      <td>9.2</td>\n",
       "      <td>\\nAn animated series that follows the exploits...</td>\n",
       "      <td>\\n            \\n    Stars:\\nJustin Roiland, \\n...</td>\n",
       "      <td>414,849</td>\n",
       "      <td>23.0</td>\n",
       "      <td>NaN</td>\n",
       "      <td>-0.970357</td>\n",
       "    </tr>\n",
       "    <tr>\n",
       "      <th>5</th>\n",
       "      <td>Outer Banks</td>\n",
       "      <td>(2020– )</td>\n",
       "      <td>\\nAction, Crime, Drama</td>\n",
       "      <td>7.6</td>\n",
       "      <td>\\nA group of teenagers from the wrong side of ...</td>\n",
       "      <td>\\n            \\n    Stars:\\nChase Stokes, \\nMa...</td>\n",
       "      <td>25,858</td>\n",
       "      <td>50.0</td>\n",
       "      <td>NaN</td>\n",
       "      <td>-0.399237</td>\n",
       "    </tr>\n",
       "  </tbody>\n",
       "</table>\n",
       "</div>"
      ],
      "text/plain": [
       "                                MOVIES         YEAR  \\\n",
       "0                        Blood Red Sky       (2021)   \n",
       "1  Masters of the Universe: Revelation     (2021– )   \n",
       "2                     The Walking Dead  (2010–2022)   \n",
       "3                       Rick and Morty     (2013– )   \n",
       "5                          Outer Banks     (2020– )   \n",
       "\n",
       "                                        GENRE  RATING  \\\n",
       "0      \\nAction, Horror, Thriller                 6.1   \n",
       "1  \\nAnimation, Action, Adventure                 5.0   \n",
       "2       \\nDrama, Horror, Thriller                 8.2   \n",
       "3  \\nAnimation, Adventure, Comedy                 9.2   \n",
       "5          \\nAction, Crime, Drama                 7.6   \n",
       "\n",
       "                                            ONE-LINE  \\\n",
       "0  \\nA woman with a mysterious illness is forced ...   \n",
       "1  \\nThe war for Eternia begins again in what may...   \n",
       "2  \\nSheriff Deputy Rick Grimes wakes up from a c...   \n",
       "3  \\nAn animated series that follows the exploits...   \n",
       "5  \\nA group of teenagers from the wrong side of ...   \n",
       "\n",
       "                                               STARS    VOTES  RunTime Gross  \\\n",
       "0  \\n    Director:\\nPeter Thorwarth\\n| \\n    Star...   21,062    121.0   NaN   \n",
       "1  \\n            \\n    Stars:\\nChris Wood, \\nSara...   17,870     25.0   NaN   \n",
       "2  \\n            \\n    Stars:\\nAndrew Lincoln, \\n...  885,805     44.0   NaN   \n",
       "3  \\n            \\n    Stars:\\nJustin Roiland, \\n...  414,849     23.0   NaN   \n",
       "5  \\n            \\n    Stars:\\nChase Stokes, \\nMa...   25,858     50.0   NaN   \n",
       "\n",
       "   RunTime_Scaler  \n",
       "0        1.102597  \n",
       "1       -0.928052  \n",
       "2       -0.526153  \n",
       "3       -0.970357  \n",
       "5       -0.399237  "
      ]
     },
     "execution_count": 275,
     "metadata": {},
     "output_type": "execute_result"
    }
   ],
   "source": [
    "my_dataset.head(5)"
   ]
  },
  {
   "cell_type": "code",
   "execution_count": 276,
   "metadata": {},
   "outputs": [],
   "source": [
    "# import numpy as np\n",
    "# from sklearn.preprocessing import FunctionTransformer\n",
    "\n",
    "# log_trans=FunctionTransformer(func=np.log1p)\n",
    "# log_trans.fit(my_dataset[['RunTime_Scaler']])\n",
    "# log_trans.transform(my_dataset[['RunTime_Scaler']])\n",
    "# my_dataset['RunTime_Scaler']=log_trans.transform(my_dataset[['RunTime_Scaler']])\n",
    "# my_dataset.head(5)\n",
    "\n"
   ]
  },
  {
   "cell_type": "code",
   "execution_count": 278,
   "metadata": {},
   "outputs": [
    {
     "data": {
      "text/plain": [
       "MOVIES               0\n",
       "YEAR                 0\n",
       "GENRE                9\n",
       "RATING             222\n",
       "ONE-LINE             0\n",
       "STARS                0\n",
       "VOTES                0\n",
       "RunTime              0\n",
       "Gross             6448\n",
       "RunTime_Scaler       0\n",
       "dtype: int64"
      ]
     },
     "execution_count": 278,
     "metadata": {},
     "output_type": "execute_result"
    }
   ],
   "source": [
    "my_dataset.isnull().sum()"
   ]
  },
  {
   "cell_type": "code",
   "execution_count": 279,
   "metadata": {},
   "outputs": [
    {
     "name": "stderr",
     "output_type": "stream",
     "text": [
      "/Users/nishantthapa/Documents/Data Cleaning/ipynb/myPractice/env/lib/python3.13/site-packages/pandas/core/internals/blocks.py:395: RuntimeWarning: invalid value encountered in log1p\n",
      "  result = func(self.values, **kwargs)\n",
      "/Users/nishantthapa/Documents/Data Cleaning/ipynb/myPractice/env/lib/python3.13/site-packages/pandas/core/internals/blocks.py:395: RuntimeWarning: invalid value encountered in log1p\n",
      "  result = func(self.values, **kwargs)\n"
     ]
    },
    {
     "data": {
      "text/html": [
       "<div>\n",
       "<style scoped>\n",
       "    .dataframe tbody tr th:only-of-type {\n",
       "        vertical-align: middle;\n",
       "    }\n",
       "\n",
       "    .dataframe tbody tr th {\n",
       "        vertical-align: top;\n",
       "    }\n",
       "\n",
       "    .dataframe thead th {\n",
       "        text-align: right;\n",
       "    }\n",
       "</style>\n",
       "<table border=\"1\" class=\"dataframe\">\n",
       "  <thead>\n",
       "    <tr style=\"text-align: right;\">\n",
       "      <th></th>\n",
       "      <th>MOVIES</th>\n",
       "      <th>YEAR</th>\n",
       "      <th>GENRE</th>\n",
       "      <th>RATING</th>\n",
       "      <th>ONE-LINE</th>\n",
       "      <th>STARS</th>\n",
       "      <th>VOTES</th>\n",
       "      <th>RunTime</th>\n",
       "      <th>Gross</th>\n",
       "      <th>RunTime_Scaler</th>\n",
       "      <th>log_runtime</th>\n",
       "    </tr>\n",
       "  </thead>\n",
       "  <tbody>\n",
       "    <tr>\n",
       "      <th>0</th>\n",
       "      <td>Blood Red Sky</td>\n",
       "      <td>(2021)</td>\n",
       "      <td>\\nAction, Horror, Thriller</td>\n",
       "      <td>6.1</td>\n",
       "      <td>\\nA woman with a mysterious illness is forced ...</td>\n",
       "      <td>\\n    Director:\\nPeter Thorwarth\\n| \\n    Star...</td>\n",
       "      <td>21,062</td>\n",
       "      <td>121.0</td>\n",
       "      <td>NaN</td>\n",
       "      <td>1.102597</td>\n",
       "      <td>0.743173</td>\n",
       "    </tr>\n",
       "    <tr>\n",
       "      <th>1</th>\n",
       "      <td>Masters of the Universe: Revelation</td>\n",
       "      <td>(2021– )</td>\n",
       "      <td>\\nAnimation, Action, Adventure</td>\n",
       "      <td>5.0</td>\n",
       "      <td>\\nThe war for Eternia begins again in what may...</td>\n",
       "      <td>\\n            \\n    Stars:\\nChris Wood, \\nSara...</td>\n",
       "      <td>17,870</td>\n",
       "      <td>25.0</td>\n",
       "      <td>NaN</td>\n",
       "      <td>-0.928052</td>\n",
       "      <td>-2.631813</td>\n",
       "    </tr>\n",
       "    <tr>\n",
       "      <th>2</th>\n",
       "      <td>The Walking Dead</td>\n",
       "      <td>(2010–2022)</td>\n",
       "      <td>\\nDrama, Horror, Thriller</td>\n",
       "      <td>8.2</td>\n",
       "      <td>\\nSheriff Deputy Rick Grimes wakes up from a c...</td>\n",
       "      <td>\\n            \\n    Stars:\\nAndrew Lincoln, \\n...</td>\n",
       "      <td>885,805</td>\n",
       "      <td>44.0</td>\n",
       "      <td>NaN</td>\n",
       "      <td>-0.526153</td>\n",
       "      <td>-0.746870</td>\n",
       "    </tr>\n",
       "    <tr>\n",
       "      <th>3</th>\n",
       "      <td>Rick and Morty</td>\n",
       "      <td>(2013– )</td>\n",
       "      <td>\\nAnimation, Adventure, Comedy</td>\n",
       "      <td>9.2</td>\n",
       "      <td>\\nAn animated series that follows the exploits...</td>\n",
       "      <td>\\n            \\n    Stars:\\nJustin Roiland, \\n...</td>\n",
       "      <td>414,849</td>\n",
       "      <td>23.0</td>\n",
       "      <td>NaN</td>\n",
       "      <td>-0.970357</td>\n",
       "      <td>-3.518540</td>\n",
       "    </tr>\n",
       "    <tr>\n",
       "      <th>5</th>\n",
       "      <td>Outer Banks</td>\n",
       "      <td>(2020– )</td>\n",
       "      <td>\\nAction, Crime, Drama</td>\n",
       "      <td>7.6</td>\n",
       "      <td>\\nA group of teenagers from the wrong side of ...</td>\n",
       "      <td>\\n            \\n    Stars:\\nChase Stokes, \\nMa...</td>\n",
       "      <td>25,858</td>\n",
       "      <td>50.0</td>\n",
       "      <td>NaN</td>\n",
       "      <td>-0.399237</td>\n",
       "      <td>-0.509555</td>\n",
       "    </tr>\n",
       "  </tbody>\n",
       "</table>\n",
       "</div>"
      ],
      "text/plain": [
       "                                MOVIES         YEAR  \\\n",
       "0                        Blood Red Sky       (2021)   \n",
       "1  Masters of the Universe: Revelation     (2021– )   \n",
       "2                     The Walking Dead  (2010–2022)   \n",
       "3                       Rick and Morty     (2013– )   \n",
       "5                          Outer Banks     (2020– )   \n",
       "\n",
       "                                        GENRE  RATING  \\\n",
       "0      \\nAction, Horror, Thriller                 6.1   \n",
       "1  \\nAnimation, Action, Adventure                 5.0   \n",
       "2       \\nDrama, Horror, Thriller                 8.2   \n",
       "3  \\nAnimation, Adventure, Comedy                 9.2   \n",
       "5          \\nAction, Crime, Drama                 7.6   \n",
       "\n",
       "                                            ONE-LINE  \\\n",
       "0  \\nA woman with a mysterious illness is forced ...   \n",
       "1  \\nThe war for Eternia begins again in what may...   \n",
       "2  \\nSheriff Deputy Rick Grimes wakes up from a c...   \n",
       "3  \\nAn animated series that follows the exploits...   \n",
       "5  \\nA group of teenagers from the wrong side of ...   \n",
       "\n",
       "                                               STARS    VOTES  RunTime Gross  \\\n",
       "0  \\n    Director:\\nPeter Thorwarth\\n| \\n    Star...   21,062    121.0   NaN   \n",
       "1  \\n            \\n    Stars:\\nChris Wood, \\nSara...   17,870     25.0   NaN   \n",
       "2  \\n            \\n    Stars:\\nAndrew Lincoln, \\n...  885,805     44.0   NaN   \n",
       "3  \\n            \\n    Stars:\\nJustin Roiland, \\n...  414,849     23.0   NaN   \n",
       "5  \\n            \\n    Stars:\\nChase Stokes, \\nMa...   25,858     50.0   NaN   \n",
       "\n",
       "   RunTime_Scaler  log_runtime  \n",
       "0        1.102597     0.743173  \n",
       "1       -0.928052    -2.631813  \n",
       "2       -0.526153    -0.746870  \n",
       "3       -0.970357    -3.518540  \n",
       "5       -0.399237    -0.509555  "
      ]
     },
     "execution_count": 279,
     "metadata": {},
     "output_type": "execute_result"
    }
   ],
   "source": [
    "import numpy as np\n",
    "from sklearn.preprocessing import FunctionTransformer\n",
    "\n",
    "log_trans=FunctionTransformer(func=np.log1p)\n",
    "log_trans.fit(my_dataset[['RunTime_Scaler']])\n",
    "log_trans.transform(my_dataset[['RunTime_Scaler']])\n",
    "my_dataset['log_runtime']=log_trans.transform(my_dataset[['RunTime_Scaler']])\n",
    "my_dataset.head(5)"
   ]
  },
  {
   "cell_type": "code",
   "execution_count": 283,
   "metadata": {},
   "outputs": [
    {
     "name": "stderr",
     "output_type": "stream",
     "text": [
      "/var/folders/34/3wp7qxj90gb3d60ymvblmvt80000gn/T/ipykernel_30979/3047236438.py:1: UserWarning: \n",
      "\n",
      "`distplot` is a deprecated function and will be removed in seaborn v0.14.0.\n",
      "\n",
      "Please adapt your code to use either `displot` (a figure-level function with\n",
      "similar flexibility) or `histplot` (an axes-level function for histograms).\n",
      "\n",
      "For a guide to updating your code to use the new functions, please see\n",
      "https://gist.github.com/mwaskom/de44147ed2974457ad6372750bbe5751\n",
      "\n",
      "  sns.distplot(my_dataset['RunTime_Scaler'])\n"
     ]
    },
    {
     "data": {
      "text/plain": [
       "<Axes: xlabel='RunTime_Scaler', ylabel='Density'>"
      ]
     },
     "execution_count": 283,
     "metadata": {},
     "output_type": "execute_result"
    },
    {
     "data": {
      "image/png": "[encoded data removed]",
      "text/plain": [
       "<Figure size 640x480 with 1 Axes>"
      ]
     },
     "metadata": {},
     "output_type": "display_data"
    }
   ],
   "source": [
    "sns.distplot(my_dataset['RunTime_Scaler'])"
   ]
  },
  {
   "cell_type": "code",
   "execution_count": 285,
   "metadata": {},
   "outputs": [
    {
     "name": "stderr",
     "output_type": "stream",
     "text": [
      "/Users/nishantthapa/Documents/Data Cleaning/ipynb/myPractice/env/lib/python3.13/site-packages/pandas/core/internals/blocks.py:395: RuntimeWarning: invalid value encountered in log1p\n",
      "  result = func(self.values, **kwargs)\n",
      "/Users/nishantthapa/Documents/Data Cleaning/ipynb/myPractice/env/lib/python3.13/site-packages/pandas/core/internals/blocks.py:395: RuntimeWarning: invalid value encountered in log1p\n",
      "  result = func(self.values, **kwargs)\n"
     ]
    },
    {
     "data": {
      "text/html": [
       "<div>\n",
       "<style scoped>\n",
       "    .dataframe tbody tr th:only-of-type {\n",
       "        vertical-align: middle;\n",
       "    }\n",
       "\n",
       "    .dataframe tbody tr th {\n",
       "        vertical-align: top;\n",
       "    }\n",
       "\n",
       "    .dataframe thead th {\n",
       "        text-align: right;\n",
       "    }\n",
       "</style>\n",
       "<table border=\"1\" class=\"dataframe\">\n",
       "  <thead>\n",
       "    <tr style=\"text-align: right;\">\n",
       "      <th></th>\n",
       "      <th>MOVIES</th>\n",
       "      <th>YEAR</th>\n",
       "      <th>GENRE</th>\n",
       "      <th>RATING</th>\n",
       "      <th>ONE-LINE</th>\n",
       "      <th>STARS</th>\n",
       "      <th>VOTES</th>\n",
       "      <th>RunTime</th>\n",
       "      <th>Gross</th>\n",
       "      <th>RunTime_Scaler</th>\n",
       "      <th>log_runtime</th>\n",
       "      <th>sq_runtime</th>\n",
       "    </tr>\n",
       "  </thead>\n",
       "  <tbody>\n",
       "    <tr>\n",
       "      <th>0</th>\n",
       "      <td>Blood Red Sky</td>\n",
       "      <td>(2021)</td>\n",
       "      <td>\\nAction, Horror, Thriller</td>\n",
       "      <td>6.1</td>\n",
       "      <td>\\nA woman with a mysterious illness is forced ...</td>\n",
       "      <td>\\n    Director:\\nPeter Thorwarth\\n| \\n    Star...</td>\n",
       "      <td>21,062</td>\n",
       "      <td>121.0</td>\n",
       "      <td>NaN</td>\n",
       "      <td>1.102597</td>\n",
       "      <td>0.743173</td>\n",
       "      <td>0.743173</td>\n",
       "    </tr>\n",
       "    <tr>\n",
       "      <th>1</th>\n",
       "      <td>Masters of the Universe: Revelation</td>\n",
       "      <td>(2021– )</td>\n",
       "      <td>\\nAnimation, Action, Adventure</td>\n",
       "      <td>5.0</td>\n",
       "      <td>\\nThe war for Eternia begins again in what may...</td>\n",
       "      <td>\\n            \\n    Stars:\\nChris Wood, \\nSara...</td>\n",
       "      <td>17,870</td>\n",
       "      <td>25.0</td>\n",
       "      <td>NaN</td>\n",
       "      <td>-0.928052</td>\n",
       "      <td>-2.631813</td>\n",
       "      <td>-2.631813</td>\n",
       "    </tr>\n",
       "    <tr>\n",
       "      <th>2</th>\n",
       "      <td>The Walking Dead</td>\n",
       "      <td>(2010–2022)</td>\n",
       "      <td>\\nDrama, Horror, Thriller</td>\n",
       "      <td>8.2</td>\n",
       "      <td>\\nSheriff Deputy Rick Grimes wakes up from a c...</td>\n",
       "      <td>\\n            \\n    Stars:\\nAndrew Lincoln, \\n...</td>\n",
       "      <td>885,805</td>\n",
       "      <td>44.0</td>\n",
       "      <td>NaN</td>\n",
       "      <td>-0.526153</td>\n",
       "      <td>-0.746870</td>\n",
       "      <td>-0.746870</td>\n",
       "    </tr>\n",
       "    <tr>\n",
       "      <th>3</th>\n",
       "      <td>Rick and Morty</td>\n",
       "      <td>(2013– )</td>\n",
       "      <td>\\nAnimation, Adventure, Comedy</td>\n",
       "      <td>9.2</td>\n",
       "      <td>\\nAn animated series that follows the exploits...</td>\n",
       "      <td>\\n            \\n    Stars:\\nJustin Roiland, \\n...</td>\n",
       "      <td>414,849</td>\n",
       "      <td>23.0</td>\n",
       "      <td>NaN</td>\n",
       "      <td>-0.970357</td>\n",
       "      <td>-3.518540</td>\n",
       "      <td>-3.518540</td>\n",
       "    </tr>\n",
       "    <tr>\n",
       "      <th>5</th>\n",
       "      <td>Outer Banks</td>\n",
       "      <td>(2020– )</td>\n",
       "      <td>\\nAction, Crime, Drama</td>\n",
       "      <td>7.6</td>\n",
       "      <td>\\nA group of teenagers from the wrong side of ...</td>\n",
       "      <td>\\n            \\n    Stars:\\nChase Stokes, \\nMa...</td>\n",
       "      <td>25,858</td>\n",
       "      <td>50.0</td>\n",
       "      <td>NaN</td>\n",
       "      <td>-0.399237</td>\n",
       "      <td>-0.509555</td>\n",
       "      <td>-0.509555</td>\n",
       "    </tr>\n",
       "  </tbody>\n",
       "</table>\n",
       "</div>"
      ],
      "text/plain": [
       "                                MOVIES         YEAR  \\\n",
       "0                        Blood Red Sky       (2021)   \n",
       "1  Masters of the Universe: Revelation     (2021– )   \n",
       "2                     The Walking Dead  (2010–2022)   \n",
       "3                       Rick and Morty     (2013– )   \n",
       "5                          Outer Banks     (2020– )   \n",
       "\n",
       "                                        GENRE  RATING  \\\n",
       "0      \\nAction, Horror, Thriller                 6.1   \n",
       "1  \\nAnimation, Action, Adventure                 5.0   \n",
       "2       \\nDrama, Horror, Thriller                 8.2   \n",
       "3  \\nAnimation, Adventure, Comedy                 9.2   \n",
       "5          \\nAction, Crime, Drama                 7.6   \n",
       "\n",
       "                                            ONE-LINE  \\\n",
       "0  \\nA woman with a mysterious illness is forced ...   \n",
       "1  \\nThe war for Eternia begins again in what may...   \n",
       "2  \\nSheriff Deputy Rick Grimes wakes up from a c...   \n",
       "3  \\nAn animated series that follows the exploits...   \n",
       "5  \\nA group of teenagers from the wrong side of ...   \n",
       "\n",
       "                                               STARS    VOTES  RunTime Gross  \\\n",
       "0  \\n    Director:\\nPeter Thorwarth\\n| \\n    Star...   21,062    121.0   NaN   \n",
       "1  \\n            \\n    Stars:\\nChris Wood, \\nSara...   17,870     25.0   NaN   \n",
       "2  \\n            \\n    Stars:\\nAndrew Lincoln, \\n...  885,805     44.0   NaN   \n",
       "3  \\n            \\n    Stars:\\nJustin Roiland, \\n...  414,849     23.0   NaN   \n",
       "5  \\n            \\n    Stars:\\nChase Stokes, \\nMa...   25,858     50.0   NaN   \n",
       "\n",
       "   RunTime_Scaler  log_runtime  sq_runtime  \n",
       "0        1.102597     0.743173    0.743173  \n",
       "1       -0.928052    -2.631813   -2.631813  \n",
       "2       -0.526153    -0.746870   -0.746870  \n",
       "3       -0.970357    -3.518540   -3.518540  \n",
       "5       -0.399237    -0.509555   -0.509555  "
      ]
     },
     "execution_count": 285,
     "metadata": {},
     "output_type": "execute_result"
    }
   ],
   "source": [
    "squ_trans= FunctionTransformer(lambda x: x**2)\n",
    "log_trans.fit(my_dataset[['RunTime_Scaler']])\n",
    "log_trans.transform(my_dataset[['RunTime_Scaler']])\n",
    "my_dataset['sq_runtime']=log_trans.transform(my_dataset[['RunTime_Scaler']])\n",
    "my_dataset.head(5)"
   ]
  },
  {
   "cell_type": "code",
   "execution_count": 286,
   "metadata": {},
   "outputs": [
    {
     "name": "stderr",
     "output_type": "stream",
     "text": [
      "/var/folders/34/3wp7qxj90gb3d60ymvblmvt80000gn/T/ipykernel_30979/3123919341.py:1: UserWarning: \n",
      "\n",
      "`distplot` is a deprecated function and will be removed in seaborn v0.14.0.\n",
      "\n",
      "Please adapt your code to use either `displot` (a figure-level function with\n",
      "similar flexibility) or `histplot` (an axes-level function for histograms).\n",
      "\n",
      "For a guide to updating your code to use the new functions, please see\n",
      "https://gist.github.com/mwaskom/de44147ed2974457ad6372750bbe5751\n",
      "\n",
      "  sns.distplot(my_dataset['sq_runtime'])\n"
     ]
    },
    {
     "data": {
      "text/plain": [
       "<Axes: xlabel='sq_runtime', ylabel='Density'>"
      ]
     },
     "execution_count": 286,
     "metadata": {},
     "output_type": "execute_result"
    },
    {
     "data": {
      "image/png": "[encoded data removed]",
      "text/plain": [
       "<Figure size 640x480 with 1 Axes>"
      ]
     },
     "metadata": {},
     "output_type": "display_data"
    }
   ],
   "source": [
    "sns.distplot(my_dataset['sq_runtime'])"
   ]
  }
 ],
 "metadata": {
  "kernelspec": {
   "display_name": "env",
   "language": "python",
   "name": "python3"
  },
  "language_info": {
   "codemirror_mode": {
    "name": "ipython",
    "version": 3
   },
   "file_extension": ".py",
   "mimetype": "text/x-python",
   "name": "python",
   "nbconvert_exporter": "python",
   "pygments_lexer": "ipython3",
   "version": "3.13.4"
  }
 },
 "nbformat": 4,
 "nbformat_minor": 2
}
