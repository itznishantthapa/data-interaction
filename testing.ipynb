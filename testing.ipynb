{
 "cells": [
  {
   "cell_type": "markdown",
   "id": "a0dfea8a-a9fd-422f-a8ca-b49cb3e3442a",
   "metadata": {},
   "source": [
    "# Practice Well Nishant"
   ]
  },
  {
   "cell_type": "code",
   "execution_count": 1,
   "id": "b6a75f35-036a-4ea7-9008-50455522eb5d",
   "metadata": {},
   "outputs": [
    {
     "name": "stdout",
     "output_type": "stream",
     "text": [
      "a perfect beginning !!\n"
     ]
    }
   ],
   "source": [
    "print(\"a perfect beginning !!\")"
   ]
  },
  {
   "cell_type": "markdown",
   "id": "6a55f90f",
   "metadata": {},
   "source": [
    "## Ouch You are Doing Nice \n"
   ]
  },
  {
   "cell_type": "code",
   "execution_count": 10,
   "id": "07e99872",
   "metadata": {},
   "outputs": [],
   "source": [
    "import numpy as np\n",
    "import matplotlib.pyplot as plt\n",
    "import pandas as pd"
   ]
  },
  {
   "cell_type": "code",
   "execution_count": null,
   "id": "ee42422f",
   "metadata": {},
   "outputs": [],
   "source": []
  }
 ],
 "metadata": {
  "kernelspec": {
   "display_name": "Python 3 (ipykernel)",
   "language": "python",
   "name": "python3"
  },
  "language_info": {
   "codemirror_mode": {
    "name": "ipython",
    "version": 3
   },
   "file_extension": ".py",
   "mimetype": "text/x-python",
   "name": "python",
   "nbconvert_exporter": "python",
   "pygments_lexer": "ipython3",
   "version": "3.13.4"
  }
 },
 "nbformat": 4,
 "nbformat_minor": 5
}
